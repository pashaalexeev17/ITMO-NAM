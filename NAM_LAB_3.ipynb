{
  "nbformat": 4,
  "nbformat_minor": 0,
  "metadata": {
    "colab": {
      "provenance": []
    },
    "kernelspec": {
      "name": "python3",
      "display_name": "Python 3"
    },
    "language_info": {
      "name": "python"
    }
  },
  "cells": [
    {
      "cell_type": "markdown",
      "source": [
        "\n",
        "В этой лабораторной работе мы будем исследовать пользовательские посты, посвящённые COVID-19"
      ],
      "metadata": {
        "id": "mk1U1Xe5m_At"
      }
    },
    {
      "cell_type": "code",
      "source": [
        "!pip install nltk\n",
        "!pip install pymorphy2\n",
        "!pip install pymorphy2-dicts\n",
        "!pip install stop-words"
      ],
      "metadata": {
        "colab": {
          "base_uri": "https://localhost:8080/"
        },
        "id": "w9hEgJAmsuLo",
        "outputId": "884bd278-7c0a-4977-9a53-2ffbf63efe59"
      },
      "execution_count": null,
      "outputs": [
        {
          "output_type": "stream",
          "name": "stdout",
          "text": [
            "Looking in indexes: https://pypi.org/simple, https://us-python.pkg.dev/colab-wheels/public/simple/\n",
            "Requirement already satisfied: nltk in /usr/local/lib/python3.9/dist-packages (3.8.1)\n",
            "Requirement already satisfied: regex>=2021.8.3 in /usr/local/lib/python3.9/dist-packages (from nltk) (2022.10.31)\n",
            "Requirement already satisfied: click in /usr/local/lib/python3.9/dist-packages (from nltk) (8.1.3)\n",
            "Requirement already satisfied: joblib in /usr/local/lib/python3.9/dist-packages (from nltk) (1.1.1)\n",
            "Requirement already satisfied: tqdm in /usr/local/lib/python3.9/dist-packages (from nltk) (4.65.0)\n",
            "Looking in indexes: https://pypi.org/simple, https://us-python.pkg.dev/colab-wheels/public/simple/\n",
            "Requirement already satisfied: pymorphy2 in /usr/local/lib/python3.9/dist-packages (0.9.1)\n",
            "Requirement already satisfied: dawg-python>=0.7.1 in /usr/local/lib/python3.9/dist-packages (from pymorphy2) (0.7.2)\n",
            "Requirement already satisfied: docopt>=0.6 in /usr/local/lib/python3.9/dist-packages (from pymorphy2) (0.6.2)\n",
            "Requirement already satisfied: pymorphy2-dicts-ru<3.0,>=2.4 in /usr/local/lib/python3.9/dist-packages (from pymorphy2) (2.4.417127.4579844)\n",
            "Looking in indexes: https://pypi.org/simple, https://us-python.pkg.dev/colab-wheels/public/simple/\n",
            "Requirement already satisfied: pymorphy2-dicts in /usr/local/lib/python3.9/dist-packages (2.4.393442.3710985)\n",
            "Looking in indexes: https://pypi.org/simple, https://us-python.pkg.dev/colab-wheels/public/simple/\n",
            "Requirement already satisfied: stop-words in /usr/local/lib/python3.9/dist-packages (2018.7.23)\n"
          ]
        }
      ]
    },
    {
      "cell_type": "code",
      "source": [
        "import pandas as pd\n",
        "import nltk\n",
        "from nltk.corpus import stopwords\n",
        "import pymorphy2\n",
        "import re\n",
        "from sklearn.feature_extraction.text import CountVectorizer\n",
        "from sklearn.model_selection import train_test_split\n",
        "from sklearn.naive_bayes import MultinomialNB\n",
        "from sklearn.metrics import classification_report\n",
        "import matplotlib.pyplot as plt\n",
        "from textblob import TextBlob"
      ],
      "metadata": {
        "id": "FSSZYKL0qXHO"
      },
      "execution_count": null,
      "outputs": []
    },
    {
      "cell_type": "markdown",
      "source": [
        "## **Задание 1**\n",
        "Скачайте набор данных Covid 19 Indian Sentiments on covid19 and lockdown по ссылке "
      ],
      "metadata": {
        "id": "iJiN0wl_p_XW"
      }
    },
    {
      "cell_type": "code",
      "execution_count": null,
      "metadata": {
        "id": "JKeRB-SwmxvV"
      },
      "outputs": [],
      "source": [
        "from google.colab import drive\n",
        "drive.mount('/content/drive')"
      ]
    },
    {
      "cell_type": "code",
      "source": [
        "df = pd.read_csv('/content/drive/MyDrive/МСА/finalSentimentdata2.csv', index_col= 0)"
      ],
      "metadata": {
        "id": "60edjiYrp-Dl"
      },
      "execution_count": null,
      "outputs": []
    },
    {
      "cell_type": "code",
      "source": [
        "df.head()"
      ],
      "metadata": {
        "colab": {
          "base_uri": "https://localhost:8080/",
          "height": 206
        },
        "id": "jO9vc4Kqriu0",
        "outputId": "bfec9e2f-1e53-4b57-a91b-4889bf2dbaf7"
      },
      "execution_count": null,
      "outputs": [
        {
          "output_type": "execute_result",
          "data": {
            "text/plain": [
              "     sentiment                                               text\n",
              "3204       sad  agree the poor in india are treated badly thei...\n",
              "1431       joy  if only i could have spent the with this cutie...\n",
              "654        joy  will nature conservation remain a priority in ...\n",
              "2530       sad  coronavirus disappearing in italy show this to...\n",
              "2296       sad  uk records lowest daily virus death toll since..."
            ],
            "text/html": [
              "\n",
              "  <div id=\"df-ab4745e0-5a62-4ddb-ae78-d03a00ceecf1\">\n",
              "    <div class=\"colab-df-container\">\n",
              "      <div>\n",
              "<style scoped>\n",
              "    .dataframe tbody tr th:only-of-type {\n",
              "        vertical-align: middle;\n",
              "    }\n",
              "\n",
              "    .dataframe tbody tr th {\n",
              "        vertical-align: top;\n",
              "    }\n",
              "\n",
              "    .dataframe thead th {\n",
              "        text-align: right;\n",
              "    }\n",
              "</style>\n",
              "<table border=\"1\" class=\"dataframe\">\n",
              "  <thead>\n",
              "    <tr style=\"text-align: right;\">\n",
              "      <th></th>\n",
              "      <th>sentiment</th>\n",
              "      <th>text</th>\n",
              "    </tr>\n",
              "  </thead>\n",
              "  <tbody>\n",
              "    <tr>\n",
              "      <th>3204</th>\n",
              "      <td>sad</td>\n",
              "      <td>agree the poor in india are treated badly thei...</td>\n",
              "    </tr>\n",
              "    <tr>\n",
              "      <th>1431</th>\n",
              "      <td>joy</td>\n",
              "      <td>if only i could have spent the with this cutie...</td>\n",
              "    </tr>\n",
              "    <tr>\n",
              "      <th>654</th>\n",
              "      <td>joy</td>\n",
              "      <td>will nature conservation remain a priority in ...</td>\n",
              "    </tr>\n",
              "    <tr>\n",
              "      <th>2530</th>\n",
              "      <td>sad</td>\n",
              "      <td>coronavirus disappearing in italy show this to...</td>\n",
              "    </tr>\n",
              "    <tr>\n",
              "      <th>2296</th>\n",
              "      <td>sad</td>\n",
              "      <td>uk records lowest daily virus death toll since...</td>\n",
              "    </tr>\n",
              "  </tbody>\n",
              "</table>\n",
              "</div>\n",
              "      <button class=\"colab-df-convert\" onclick=\"convertToInteractive('df-ab4745e0-5a62-4ddb-ae78-d03a00ceecf1')\"\n",
              "              title=\"Convert this dataframe to an interactive table.\"\n",
              "              style=\"display:none;\">\n",
              "        \n",
              "  <svg xmlns=\"http://www.w3.org/2000/svg\" height=\"24px\"viewBox=\"0 0 24 24\"\n",
              "       width=\"24px\">\n",
              "    <path d=\"M0 0h24v24H0V0z\" fill=\"none\"/>\n",
              "    <path d=\"M18.56 5.44l.94 2.06.94-2.06 2.06-.94-2.06-.94-.94-2.06-.94 2.06-2.06.94zm-11 1L8.5 8.5l.94-2.06 2.06-.94-2.06-.94L8.5 2.5l-.94 2.06-2.06.94zm10 10l.94 2.06.94-2.06 2.06-.94-2.06-.94-.94-2.06-.94 2.06-2.06.94z\"/><path d=\"M17.41 7.96l-1.37-1.37c-.4-.4-.92-.59-1.43-.59-.52 0-1.04.2-1.43.59L10.3 9.45l-7.72 7.72c-.78.78-.78 2.05 0 2.83L4 21.41c.39.39.9.59 1.41.59.51 0 1.02-.2 1.41-.59l7.78-7.78 2.81-2.81c.8-.78.8-2.07 0-2.86zM5.41 20L4 18.59l7.72-7.72 1.47 1.35L5.41 20z\"/>\n",
              "  </svg>\n",
              "      </button>\n",
              "      \n",
              "  <style>\n",
              "    .colab-df-container {\n",
              "      display:flex;\n",
              "      flex-wrap:wrap;\n",
              "      gap: 12px;\n",
              "    }\n",
              "\n",
              "    .colab-df-convert {\n",
              "      background-color: #E8F0FE;\n",
              "      border: none;\n",
              "      border-radius: 50%;\n",
              "      cursor: pointer;\n",
              "      display: none;\n",
              "      fill: #1967D2;\n",
              "      height: 32px;\n",
              "      padding: 0 0 0 0;\n",
              "      width: 32px;\n",
              "    }\n",
              "\n",
              "    .colab-df-convert:hover {\n",
              "      background-color: #E2EBFA;\n",
              "      box-shadow: 0px 1px 2px rgba(60, 64, 67, 0.3), 0px 1px 3px 1px rgba(60, 64, 67, 0.15);\n",
              "      fill: #174EA6;\n",
              "    }\n",
              "\n",
              "    [theme=dark] .colab-df-convert {\n",
              "      background-color: #3B4455;\n",
              "      fill: #D2E3FC;\n",
              "    }\n",
              "\n",
              "    [theme=dark] .colab-df-convert:hover {\n",
              "      background-color: #434B5C;\n",
              "      box-shadow: 0px 1px 3px 1px rgba(0, 0, 0, 0.15);\n",
              "      filter: drop-shadow(0px 1px 2px rgba(0, 0, 0, 0.3));\n",
              "      fill: #FFFFFF;\n",
              "    }\n",
              "  </style>\n",
              "\n",
              "      <script>\n",
              "        const buttonEl =\n",
              "          document.querySelector('#df-ab4745e0-5a62-4ddb-ae78-d03a00ceecf1 button.colab-df-convert');\n",
              "        buttonEl.style.display =\n",
              "          google.colab.kernel.accessAllowed ? 'block' : 'none';\n",
              "\n",
              "        async function convertToInteractive(key) {\n",
              "          const element = document.querySelector('#df-ab4745e0-5a62-4ddb-ae78-d03a00ceecf1');\n",
              "          const dataTable =\n",
              "            await google.colab.kernel.invokeFunction('convertToInteractive',\n",
              "                                                     [key], {});\n",
              "          if (!dataTable) return;\n",
              "\n",
              "          const docLinkHtml = 'Like what you see? Visit the ' +\n",
              "            '<a target=\"_blank\" href=https://colab.research.google.com/notebooks/data_table.ipynb>data table notebook</a>'\n",
              "            + ' to learn more about interactive tables.';\n",
              "          element.innerHTML = '';\n",
              "          dataTable['output_type'] = 'display_data';\n",
              "          await google.colab.output.renderOutput(dataTable, element);\n",
              "          const docLink = document.createElement('div');\n",
              "          docLink.innerHTML = docLinkHtml;\n",
              "          element.appendChild(docLink);\n",
              "        }\n",
              "      </script>\n",
              "    </div>\n",
              "  </div>\n",
              "  "
            ]
          },
          "metadata": {},
          "execution_count": 5
        }
      ]
    },
    {
      "cell_type": "markdown",
      "source": [
        "## **Задание 2**\n",
        "\n",
        "В датафрейме оставьте только те строки, у которых в столбце sentiment написано sad или joy"
      ],
      "metadata": {
        "id": "UVhwqBJormYk"
      }
    },
    {
      "cell_type": "code",
      "source": [
        "df = df[df['sentiment'].isin(['sad', 'joy'])]"
      ],
      "metadata": {
        "id": "gX69w80osigS"
      },
      "execution_count": null,
      "outputs": []
    },
    {
      "cell_type": "code",
      "source": [
        "df['sentiment'].unique()"
      ],
      "metadata": {
        "colab": {
          "base_uri": "https://localhost:8080/"
        },
        "id": "1ScNeUUAsnRy",
        "outputId": "02f2a721-d66a-4deb-8370-4a64bf22b96f"
      },
      "execution_count": null,
      "outputs": [
        {
          "output_type": "execute_result",
          "data": {
            "text/plain": [
              "array(['sad', 'joy'], dtype=object)"
            ]
          },
          "metadata": {},
          "execution_count": 7
        }
      ]
    },
    {
      "cell_type": "markdown",
      "source": [
        "## **Задание 3**\n",
        "\n",
        "Примените на этом наборе данных шаги предварительной обработки"
      ],
      "metadata": {
        "id": "qXZ0aj3EtX9B"
      }
    },
    {
      "cell_type": "markdown",
      "source": [
        "Загрузим набор стоп-слов для английского языка и проинициализируем объект лемматизатора pymorphy2"
      ],
      "metadata": {
        "id": "R1RqRlgIuOsp"
      }
    },
    {
      "cell_type": "code",
      "source": [
        "nltk.download('stopwords')\n",
        "morph = pymorphy2.MorphAnalyzer()\n",
        "stop_words = set(stopwords.words('english'))"
      ],
      "metadata": {
        "colab": {
          "base_uri": "https://localhost:8080/"
        },
        "id": "1OGGcBxHt7Dh",
        "outputId": "e0a1e16c-1ac8-42b1-c940-dfff7156542d"
      },
      "execution_count": null,
      "outputs": [
        {
          "output_type": "stream",
          "name": "stderr",
          "text": [
            "[nltk_data] Downloading package stopwords to /root/nltk_data...\n",
            "[nltk_data]   Package stopwords is already up-to-date!\n"
          ]
        }
      ]
    },
    {
      "cell_type": "markdown",
      "source": [
        "Теперь мы можем приступить к предварительной обработке текста. Сначала приведем текст к нижнему регистру и удалим из него хэштеги и отметки пользователей с помощью регулярных выражений:"
      ],
      "metadata": {
        "id": "Jw-xEOCiwJ0L"
      }
    },
    {
      "cell_type": "code",
      "source": [
        "df['text'] = df['text'].str.lower() # приведение к нижнему регистру\n",
        "df['text'] = df['text'].apply(lambda x: re.sub(r'#\\w+', '', x)) # удаление хэштегов\n",
        "df['text'] = df['text'].apply(lambda x: re.sub(r'@\\w+', '', x)) # удаление отметок пользователей"
      ],
      "metadata": {
        "id": "n_i7sGG2vPGV"
      },
      "execution_count": null,
      "outputs": []
    },
    {
      "cell_type": "markdown",
      "source": [
        "Затем произведем токенизацию и лемматизацию текста и удалим стоп-слова:"
      ],
      "metadata": {
        "id": "f1FfpazTwT4U"
      }
    },
    {
      "cell_type": "code",
      "source": [
        "df['text'] = df['text'].apply(lambda x: re.findall(r'\\b\\w+\\b', x)) # токенизация\n",
        "df['text'] = df['text'].apply(lambda x: [morph.parse(word)[0].normal_form for word in x]) # лемматизация\n",
        "df['text'] = df['text'].apply(lambda x: [word for word in x if word not in stop_words]) # удаление стоп-слов"
      ],
      "metadata": {
        "id": "o6lXzbYfwRYP"
      },
      "execution_count": null,
      "outputs": []
    },
    {
      "cell_type": "markdown",
      "source": [
        "Наконец, произведем векторизацию текста "
      ],
      "metadata": {
        "id": "QOeq-SixwsKq"
      }
    },
    {
      "cell_type": "code",
      "source": [
        "vectorizer = CountVectorizer()\n",
        "X = vectorizer.fit_transform(df['text'].apply(lambda x: ' '.join(x)))"
      ],
      "metadata": {
        "id": "80D13TSPwpmJ"
      },
      "execution_count": null,
      "outputs": []
    },
    {
      "cell_type": "markdown",
      "source": [
        "## **Задание 4**\n",
        "Обучите классификатор"
      ],
      "metadata": {
        "id": "Cqeag67hxWZC"
      }
    },
    {
      "cell_type": "code",
      "source": [
        "X_train, X_test, y_train, y_test = train_test_split(X, df['sentiment'], test_size=0.2, random_state=42)"
      ],
      "metadata": {
        "id": "j696Zgimw-UW"
      },
      "execution_count": null,
      "outputs": []
    },
    {
      "cell_type": "code",
      "source": [
        "clf = MultinomialNB()\n",
        "clf.fit(X_train, y_train)"
      ],
      "metadata": {
        "id": "gophF6HDyBzi"
      },
      "execution_count": null,
      "outputs": []
    },
    {
      "cell_type": "code",
      "source": [
        "y_pred = clf.predict(X_test)\n",
        "\n",
        "print(classification_report(y_test, y_pred))"
      ],
      "metadata": {
        "colab": {
          "base_uri": "https://localhost:8080/"
        },
        "id": "h86kfDuWyDZs",
        "outputId": "5add76c4-1b1d-44aa-d255-1b7171f63ab6"
      },
      "execution_count": null,
      "outputs": [
        {
          "output_type": "stream",
          "name": "stdout",
          "text": [
            "              precision    recall  f1-score   support\n",
            "\n",
            "         joy       0.82      0.82      0.82       153\n",
            "         sad       0.82      0.82      0.82       152\n",
            "\n",
            "    accuracy                           0.82       305\n",
            "   macro avg       0.82      0.82      0.82       305\n",
            "weighted avg       0.82      0.82      0.82       305\n",
            "\n"
          ]
        }
      ]
    },
    {
      "cell_type": "markdown",
      "source": [
        "## **Задание 5**\n",
        "Примените шаги предобработки на наборе данных COVID19 Tweets"
      ],
      "metadata": {
        "id": "efWU-0Jf9zU2"
      }
    },
    {
      "cell_type": "code",
      "source": [
        "df_tweets = pd.read_csv('/content/drive/MyDrive/МСА/covid19_tweets.csv')"
      ],
      "metadata": {
        "id": "QmBgUMk98xKu"
      },
      "execution_count": null,
      "outputs": []
    },
    {
      "cell_type": "code",
      "source": [
        "df_tweets.head()"
      ],
      "metadata": {
        "colab": {
          "base_uri": "https://localhost:8080/",
          "height": 337
        },
        "id": "e-SQcRQk-FqX",
        "outputId": "6ed7926e-5123-4023-d060-9cc3a50818c6"
      },
      "execution_count": null,
      "outputs": [
        {
          "output_type": "execute_result",
          "data": {
            "text/plain": [
              "         user_name         user_location  \\\n",
              "0           ᏉᎥ☻լꂅϮ            astroworld   \n",
              "1    Tom Basile 🇺🇸          New York, NY   \n",
              "2  Time4fisticuffs      Pewee Valley, KY   \n",
              "3      ethel mertz  Stuck in the Middle    \n",
              "4         DIPR-J&K     Jammu and Kashmir   \n",
              "\n",
              "                                    user_description         user_created  \\\n",
              "0  wednesday addams as a disney princess keepin i...  2017-05-26 05:46:42   \n",
              "1  Husband, Father, Columnist & Commentator. Auth...  2009-04-16 20:06:23   \n",
              "2  #Christian #Catholic #Conservative #Reagan #Re...  2009-02-28 18:57:41   \n",
              "3  #Browns #Indians #ClevelandProud #[]_[] #Cavs ...  2019-03-07 01:45:06   \n",
              "4  🖊️Official Twitter handle of Department of Inf...  2017-02-12 06:45:15   \n",
              "\n",
              "   user_followers  user_friends  user_favourites  user_verified  \\\n",
              "0             624           950            18775          False   \n",
              "1            2253          1677               24           True   \n",
              "2            9275          9525             7254          False   \n",
              "3             197           987             1488          False   \n",
              "4          101009           168              101          False   \n",
              "\n",
              "                  date                                               text  \\\n",
              "0  2020-07-25 12:27:21  If I smelled the scent of hand sanitizers toda...   \n",
              "1  2020-07-25 12:27:17  Hey @Yankees @YankeesPR and @MLB - wouldn't it...   \n",
              "2  2020-07-25 12:27:14  @diane3443 @wdunlap @realDonaldTrump Trump nev...   \n",
              "3  2020-07-25 12:27:10  @brookbanktv The one gift #COVID19 has give me...   \n",
              "4  2020-07-25 12:27:08  25 July : Media Bulletin on Novel #CoronaVirus...   \n",
              "\n",
              "                            hashtags               source  is_retweet  \n",
              "0                                NaN   Twitter for iPhone       False  \n",
              "1                                NaN  Twitter for Android       False  \n",
              "2                        ['COVID19']  Twitter for Android       False  \n",
              "3                        ['COVID19']   Twitter for iPhone       False  \n",
              "4  ['CoronaVirusUpdates', 'COVID19']  Twitter for Android       False  "
            ],
            "text/html": [
              "\n",
              "  <div id=\"df-a08ced14-cca9-4f70-809d-0b461ee561ea\">\n",
              "    <div class=\"colab-df-container\">\n",
              "      <div>\n",
              "<style scoped>\n",
              "    .dataframe tbody tr th:only-of-type {\n",
              "        vertical-align: middle;\n",
              "    }\n",
              "\n",
              "    .dataframe tbody tr th {\n",
              "        vertical-align: top;\n",
              "    }\n",
              "\n",
              "    .dataframe thead th {\n",
              "        text-align: right;\n",
              "    }\n",
              "</style>\n",
              "<table border=\"1\" class=\"dataframe\">\n",
              "  <thead>\n",
              "    <tr style=\"text-align: right;\">\n",
              "      <th></th>\n",
              "      <th>user_name</th>\n",
              "      <th>user_location</th>\n",
              "      <th>user_description</th>\n",
              "      <th>user_created</th>\n",
              "      <th>user_followers</th>\n",
              "      <th>user_friends</th>\n",
              "      <th>user_favourites</th>\n",
              "      <th>user_verified</th>\n",
              "      <th>date</th>\n",
              "      <th>text</th>\n",
              "      <th>hashtags</th>\n",
              "      <th>source</th>\n",
              "      <th>is_retweet</th>\n",
              "    </tr>\n",
              "  </thead>\n",
              "  <tbody>\n",
              "    <tr>\n",
              "      <th>0</th>\n",
              "      <td>ᏉᎥ☻լꂅϮ</td>\n",
              "      <td>astroworld</td>\n",
              "      <td>wednesday addams as a disney princess keepin i...</td>\n",
              "      <td>2017-05-26 05:46:42</td>\n",
              "      <td>624</td>\n",
              "      <td>950</td>\n",
              "      <td>18775</td>\n",
              "      <td>False</td>\n",
              "      <td>2020-07-25 12:27:21</td>\n",
              "      <td>If I smelled the scent of hand sanitizers toda...</td>\n",
              "      <td>NaN</td>\n",
              "      <td>Twitter for iPhone</td>\n",
              "      <td>False</td>\n",
              "    </tr>\n",
              "    <tr>\n",
              "      <th>1</th>\n",
              "      <td>Tom Basile 🇺🇸</td>\n",
              "      <td>New York, NY</td>\n",
              "      <td>Husband, Father, Columnist &amp; Commentator. Auth...</td>\n",
              "      <td>2009-04-16 20:06:23</td>\n",
              "      <td>2253</td>\n",
              "      <td>1677</td>\n",
              "      <td>24</td>\n",
              "      <td>True</td>\n",
              "      <td>2020-07-25 12:27:17</td>\n",
              "      <td>Hey @Yankees @YankeesPR and @MLB - wouldn't it...</td>\n",
              "      <td>NaN</td>\n",
              "      <td>Twitter for Android</td>\n",
              "      <td>False</td>\n",
              "    </tr>\n",
              "    <tr>\n",
              "      <th>2</th>\n",
              "      <td>Time4fisticuffs</td>\n",
              "      <td>Pewee Valley, KY</td>\n",
              "      <td>#Christian #Catholic #Conservative #Reagan #Re...</td>\n",
              "      <td>2009-02-28 18:57:41</td>\n",
              "      <td>9275</td>\n",
              "      <td>9525</td>\n",
              "      <td>7254</td>\n",
              "      <td>False</td>\n",
              "      <td>2020-07-25 12:27:14</td>\n",
              "      <td>@diane3443 @wdunlap @realDonaldTrump Trump nev...</td>\n",
              "      <td>['COVID19']</td>\n",
              "      <td>Twitter for Android</td>\n",
              "      <td>False</td>\n",
              "    </tr>\n",
              "    <tr>\n",
              "      <th>3</th>\n",
              "      <td>ethel mertz</td>\n",
              "      <td>Stuck in the Middle</td>\n",
              "      <td>#Browns #Indians #ClevelandProud #[]_[] #Cavs ...</td>\n",
              "      <td>2019-03-07 01:45:06</td>\n",
              "      <td>197</td>\n",
              "      <td>987</td>\n",
              "      <td>1488</td>\n",
              "      <td>False</td>\n",
              "      <td>2020-07-25 12:27:10</td>\n",
              "      <td>@brookbanktv The one gift #COVID19 has give me...</td>\n",
              "      <td>['COVID19']</td>\n",
              "      <td>Twitter for iPhone</td>\n",
              "      <td>False</td>\n",
              "    </tr>\n",
              "    <tr>\n",
              "      <th>4</th>\n",
              "      <td>DIPR-J&amp;K</td>\n",
              "      <td>Jammu and Kashmir</td>\n",
              "      <td>🖊️Official Twitter handle of Department of Inf...</td>\n",
              "      <td>2017-02-12 06:45:15</td>\n",
              "      <td>101009</td>\n",
              "      <td>168</td>\n",
              "      <td>101</td>\n",
              "      <td>False</td>\n",
              "      <td>2020-07-25 12:27:08</td>\n",
              "      <td>25 July : Media Bulletin on Novel #CoronaVirus...</td>\n",
              "      <td>['CoronaVirusUpdates', 'COVID19']</td>\n",
              "      <td>Twitter for Android</td>\n",
              "      <td>False</td>\n",
              "    </tr>\n",
              "  </tbody>\n",
              "</table>\n",
              "</div>\n",
              "      <button class=\"colab-df-convert\" onclick=\"convertToInteractive('df-a08ced14-cca9-4f70-809d-0b461ee561ea')\"\n",
              "              title=\"Convert this dataframe to an interactive table.\"\n",
              "              style=\"display:none;\">\n",
              "        \n",
              "  <svg xmlns=\"http://www.w3.org/2000/svg\" height=\"24px\"viewBox=\"0 0 24 24\"\n",
              "       width=\"24px\">\n",
              "    <path d=\"M0 0h24v24H0V0z\" fill=\"none\"/>\n",
              "    <path d=\"M18.56 5.44l.94 2.06.94-2.06 2.06-.94-2.06-.94-.94-2.06-.94 2.06-2.06.94zm-11 1L8.5 8.5l.94-2.06 2.06-.94-2.06-.94L8.5 2.5l-.94 2.06-2.06.94zm10 10l.94 2.06.94-2.06 2.06-.94-2.06-.94-.94-2.06-.94 2.06-2.06.94z\"/><path d=\"M17.41 7.96l-1.37-1.37c-.4-.4-.92-.59-1.43-.59-.52 0-1.04.2-1.43.59L10.3 9.45l-7.72 7.72c-.78.78-.78 2.05 0 2.83L4 21.41c.39.39.9.59 1.41.59.51 0 1.02-.2 1.41-.59l7.78-7.78 2.81-2.81c.8-.78.8-2.07 0-2.86zM5.41 20L4 18.59l7.72-7.72 1.47 1.35L5.41 20z\"/>\n",
              "  </svg>\n",
              "      </button>\n",
              "      \n",
              "  <style>\n",
              "    .colab-df-container {\n",
              "      display:flex;\n",
              "      flex-wrap:wrap;\n",
              "      gap: 12px;\n",
              "    }\n",
              "\n",
              "    .colab-df-convert {\n",
              "      background-color: #E8F0FE;\n",
              "      border: none;\n",
              "      border-radius: 50%;\n",
              "      cursor: pointer;\n",
              "      display: none;\n",
              "      fill: #1967D2;\n",
              "      height: 32px;\n",
              "      padding: 0 0 0 0;\n",
              "      width: 32px;\n",
              "    }\n",
              "\n",
              "    .colab-df-convert:hover {\n",
              "      background-color: #E2EBFA;\n",
              "      box-shadow: 0px 1px 2px rgba(60, 64, 67, 0.3), 0px 1px 3px 1px rgba(60, 64, 67, 0.15);\n",
              "      fill: #174EA6;\n",
              "    }\n",
              "\n",
              "    [theme=dark] .colab-df-convert {\n",
              "      background-color: #3B4455;\n",
              "      fill: #D2E3FC;\n",
              "    }\n",
              "\n",
              "    [theme=dark] .colab-df-convert:hover {\n",
              "      background-color: #434B5C;\n",
              "      box-shadow: 0px 1px 3px 1px rgba(0, 0, 0, 0.15);\n",
              "      filter: drop-shadow(0px 1px 2px rgba(0, 0, 0, 0.3));\n",
              "      fill: #FFFFFF;\n",
              "    }\n",
              "  </style>\n",
              "\n",
              "      <script>\n",
              "        const buttonEl =\n",
              "          document.querySelector('#df-a08ced14-cca9-4f70-809d-0b461ee561ea button.colab-df-convert');\n",
              "        buttonEl.style.display =\n",
              "          google.colab.kernel.accessAllowed ? 'block' : 'none';\n",
              "\n",
              "        async function convertToInteractive(key) {\n",
              "          const element = document.querySelector('#df-a08ced14-cca9-4f70-809d-0b461ee561ea');\n",
              "          const dataTable =\n",
              "            await google.colab.kernel.invokeFunction('convertToInteractive',\n",
              "                                                     [key], {});\n",
              "          if (!dataTable) return;\n",
              "\n",
              "          const docLinkHtml = 'Like what you see? Visit the ' +\n",
              "            '<a target=\"_blank\" href=https://colab.research.google.com/notebooks/data_table.ipynb>data table notebook</a>'\n",
              "            + ' to learn more about interactive tables.';\n",
              "          element.innerHTML = '';\n",
              "          dataTable['output_type'] = 'display_data';\n",
              "          await google.colab.output.renderOutput(dataTable, element);\n",
              "          const docLink = document.createElement('div');\n",
              "          docLink.innerHTML = docLinkHtml;\n",
              "          element.appendChild(docLink);\n",
              "        }\n",
              "      </script>\n",
              "    </div>\n",
              "  </div>\n",
              "  "
            ]
          },
          "metadata": {},
          "execution_count": 16
        }
      ]
    },
    {
      "cell_type": "markdown",
      "source": [
        "Оставим только сами комментарии для удобства"
      ],
      "metadata": {
        "id": "zHclt-1r-6IK"
      }
    },
    {
      "cell_type": "code",
      "source": [
        "df_tweets = df_tweets.drop(columns = ['user_name', 'user_location', 'user_description', 'user_created',\n",
        "       'user_followers', 'user_friends', 'user_favourites', 'user_verified',\n",
        "       'date', 'hashtags', 'source', 'is_retweet'])"
      ],
      "metadata": {
        "id": "UY0F8RD6-OPD"
      },
      "execution_count": null,
      "outputs": []
    },
    {
      "cell_type": "code",
      "source": [
        "df_tweets['text'] = df_tweets['text'].str.lower() # приведение к нижнему регистру\n",
        "df_tweets['text'] = df_tweets['text'].apply(lambda x: re.sub(r'#\\w+', '', x)) # удаление хэштегов\n",
        "df_tweets['text'] = df_tweets['text'].apply(lambda x: re.sub(r'@\\w+', '', x)) # удаление отметок пользователей"
      ],
      "metadata": {
        "id": "HoqLXbVd_JsS"
      },
      "execution_count": null,
      "outputs": []
    },
    {
      "cell_type": "code",
      "source": [
        "df_tweets['text'] = df_tweets['text'].apply(lambda x: re.findall(r'\\b\\w+\\b', x)) # токенизация\n",
        "df_tweets['text'] = df_tweets['text'].apply(lambda x: [morph.parse(word)[0].normal_form for word in x]) # лемматизация\n",
        "df_tweets['text'] = df_tweets['text'].apply(lambda x: [word for word in x if word not in stop_words]) # удаление стоп-слов"
      ],
      "metadata": {
        "id": "Z0fHdzg4_M8n"
      },
      "execution_count": null,
      "outputs": []
    },
    {
      "cell_type": "code",
      "source": [
        "X_tweets = vectorizer.transform(df_tweets['text'].apply(lambda x: ' '.join(x)))"
      ],
      "metadata": {
        "id": "LtkxWWEw_PKi"
      },
      "execution_count": null,
      "outputs": []
    },
    {
      "cell_type": "markdown",
      "source": [
        "## **Задание 6**\n",
        "\n",
        "С помощью обученного классификатора найдите посты из набора данных COVID19 Tweets, которые можно отнести к классу sad. Какой процент от общего количества постов они составляют?"
      ],
      "metadata": {
        "id": "BAZGzT8p_wL5"
      }
    },
    {
      "cell_type": "code",
      "source": [
        "y_tweets_pred = clf.predict(X_tweets)"
      ],
      "metadata": {
        "id": "1F6OQcz7AQua"
      },
      "execution_count": null,
      "outputs": []
    },
    {
      "cell_type": "code",
      "source": [
        "joy_count = (y_tweets_pred == 'joy').sum()\n",
        "sad_count = (y_tweets_pred == 'sad').sum()\n",
        "\n",
        "sizes = [sad_count, joy_count]\n",
        "labels = ['Sad', 'Joy']\n",
        "colors = ['#ff9999', '#66b3ff']\n",
        "\n",
        "fig, ax = plt.subplots()\n",
        "ax.pie(sizes, labels=labels, colors=colors, autopct='%1.1f%%', startangle=90)\n",
        "\n",
        "ax.legend(labels, title=\"Настроения\", loc=\"center left\", bbox_to_anchor=(1, 0, 0.5, 1))\n",
        "\n",
        "ax.axis('equal')\n",
        "\n",
        "plt.title(\"Процентное соотношение комментариев по настроениям\")\n",
        "\n",
        "plt.show()"
      ],
      "metadata": {
        "colab": {
          "base_uri": "https://localhost:8080/",
          "height": 264
        },
        "id": "9nvfZNbYJ82F",
        "outputId": "17e5de49-ccd8-4c29-e431-5e211d54e2f9"
      },
      "execution_count": null,
      "outputs": [
        {
          "output_type": "display_data",
          "data": {
            "text/plain": [
              "<Figure size 432x288 with 1 Axes>"
            ],
            "image/png": "[encoded data removed]"
          },
          "metadata": {}
        }
      ]
    },
    {
      "cell_type": "markdown",
      "source": [
        "## **Задание 7**\n",
        "\n",
        "Проанализируйте тональность постов из набора данных COVID19 Tweets с помощью библиотеки Dostoevsky или TextBlob. Какое процентное соотношение постов разных настроений наблюдается?"
      ],
      "metadata": {
        "id": "71tTOvVMK0d2"
      }
    },
    {
      "cell_type": "code",
      "source": [
        "def get_sentiment(text):\n",
        "    analysis = TextBlob(text)\n",
        "    polarity = analysis.sentiment.polarity\n",
        "    \n",
        "    if polarity > 0:\n",
        "        return 'joy'\n",
        "    else:\n",
        "        return 'sad'"
      ],
      "metadata": {
        "id": "DMoeYPOaKwdj"
      },
      "execution_count": null,
      "outputs": []
    },
    {
      "cell_type": "code",
      "source": [
        "df_tweets['sentiment_textblob'] = df_tweets['text'].apply(lambda x: get_sentiment(' '.join(x)))"
      ],
      "metadata": {
        "id": "sLZkvsnPL4gM"
      },
      "execution_count": null,
      "outputs": []
    },
    {
      "cell_type": "code",
      "source": [
        "joy_count = (df_tweets['sentiment_textblob'] == 'joy').sum()\n",
        "sad_count = (df_tweets['sentiment_textblob'] == 'sad').sum()\n",
        "\n",
        "sizes = [sad_count, joy_count]\n",
        "labels = ['Sad', 'Joy']\n",
        "colors = ['#ff9999', '#66b3ff']\n",
        "\n",
        "fig, ax = plt.subplots()\n",
        "ax.pie(sizes, labels=labels, colors=colors, autopct='%1.1f%%', startangle=90)\n",
        "\n",
        "ax.legend(labels, title=\"Настроения\", loc=\"center left\", bbox_to_anchor=(1, 0, 0.5, 1))\n",
        "\n",
        "ax.axis('equal')\n",
        "\n",
        "plt.title(\"Процентное соотношение постов разных настроений (TextBlob)\")\n",
        "\n",
        "plt.show()"
      ],
      "metadata": {
        "colab": {
          "base_uri": "https://localhost:8080/",
          "height": 264
        },
        "id": "OKkGTw9NL6r1",
        "outputId": "e851ab1f-1f0f-4a73-a750-ea5ee97b1834"
      },
      "execution_count": null,
      "outputs": [
        {
          "output_type": "display_data",
          "data": {
            "text/plain": [
              "<Figure size 432x288 with 1 Axes>"
            ],
            "image/png": "[encoded data removed]"
          },
          "metadata": {}
        }
      ]
    }
  ]
}