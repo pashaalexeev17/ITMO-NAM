{
  "nbformat": 4,
  "nbformat_minor": 0,
  "metadata": {
    "colab": {
      "provenance": []
    },
    "kernelspec": {
      "name": "python3",
      "display_name": "Python 3"
    },
    "language_info": {
      "name": "python"
    },
    "accelerator": "GPU",
    "gpuClass": "standard"
  },
  "cells": [
    {
      "cell_type": "markdown",
      "source": [
        "# **Тематическое моделирование и генерация текста при помощи GPT-2**\n",
        "\n",
        "Данная лабораторная будет состоять из двух частей: анализ скрытых тем в постах (topic modeling) и генерация постов при помощи дообучения (fine-tuning) модели gpt-2. "
      ],
      "metadata": {
        "id": "NbDEhWFeENym"
      }
    },
    {
      "cell_type": "code",
      "source": [
        "!pip install pyLDAvis"
      ],
      "metadata": {
        "id": "73s_joVCRnRU",
        "colab": {
          "base_uri": "https://localhost:8080/"
        },
        "outputId": "15d6c88c-a9ae-4b86-bbc2-d34c231e72a9"
      },
      "execution_count": null,
      "outputs": [
        {
          "output_type": "stream",
          "name": "stdout",
          "text": [
            "Looking in indexes: https://pypi.org/simple, https://us-python.pkg.dev/colab-wheels/public/simple/\n",
            "Requirement already satisfied: pyLDAvis in /usr/local/lib/python3.9/dist-packages (3.4.0)\n",
            "Requirement already satisfied: scipy in /usr/local/lib/python3.9/dist-packages (from pyLDAvis) (1.10.1)\n",
            "Requirement already satisfied: numpy>=1.22.0 in /usr/local/lib/python3.9/dist-packages (from pyLDAvis) (1.22.4)\n",
            "Requirement already satisfied: jinja2 in /usr/local/lib/python3.9/dist-packages (from pyLDAvis) (3.1.2)\n",
            "Requirement already satisfied: funcy in /usr/local/lib/python3.9/dist-packages (from pyLDAvis) (2.0)\n",
            "Requirement already satisfied: numexpr in /usr/local/lib/python3.9/dist-packages (from pyLDAvis) (2.8.4)\n",
            "Requirement already satisfied: setuptools in /usr/local/lib/python3.9/dist-packages (from pyLDAvis) (67.6.1)\n",
            "Requirement already satisfied: gensim in /usr/local/lib/python3.9/dist-packages (from pyLDAvis) (4.3.1)\n",
            "Requirement already satisfied: scikit-learn>=1.0.0 in /usr/local/lib/python3.9/dist-packages (from pyLDAvis) (1.2.2)\n",
            "Requirement already satisfied: joblib>=1.2.0 in /usr/local/lib/python3.9/dist-packages (from pyLDAvis) (1.2.0)\n",
            "Requirement already satisfied: pandas>=1.3.4 in /usr/local/lib/python3.9/dist-packages (from pyLDAvis) (1.5.3)\n",
            "Requirement already satisfied: pytz>=2020.1 in /usr/local/lib/python3.9/dist-packages (from pandas>=1.3.4->pyLDAvis) (2022.7.1)\n",
            "Requirement already satisfied: python-dateutil>=2.8.1 in /usr/local/lib/python3.9/dist-packages (from pandas>=1.3.4->pyLDAvis) (2.8.2)\n",
            "Requirement already satisfied: threadpoolctl>=2.0.0 in /usr/local/lib/python3.9/dist-packages (from scikit-learn>=1.0.0->pyLDAvis) (3.1.0)\n",
            "Requirement already satisfied: smart-open>=1.8.1 in /usr/local/lib/python3.9/dist-packages (from gensim->pyLDAvis) (6.3.0)\n",
            "Requirement already satisfied: MarkupSafe>=2.0 in /usr/local/lib/python3.9/dist-packages (from jinja2->pyLDAvis) (2.1.2)\n",
            "Requirement already satisfied: six>=1.5 in /usr/local/lib/python3.9/dist-packages (from python-dateutil>=2.8.1->pandas>=1.3.4->pyLDAvis) (1.16.0)\n"
          ]
        }
      ]
    },
    {
      "cell_type": "code",
      "source": [
        "import numpy as np\n",
        "import pandas as pd\n",
        "import nltk\n",
        "from nltk.corpus import stopwords\n",
        "from nltk.tokenize import word_tokenize\n",
        "from nltk.stem import WordNetLemmatizer\n",
        "import pyLDAvis.gensim_models as gensimvis\n",
        "import pyLDAvis\n",
        "from gensim.models import LdaModel\n",
        "from gensim.models.coherencemodel import CoherenceModel\n",
        "import nltk\n",
        "from nltk.tokenize import word_tokenize\n",
        "from nltk.corpus import stopwords\n",
        "from nltk.stem import WordNetLemmatizer\n",
        "import string\n",
        "from gensim.corpora import Dictionary\n",
        "from gensim.models import TfidfModel"
      ],
      "metadata": {
        "id": "YwLqAWJnE7uv",
        "colab": {
          "base_uri": "https://localhost:8080/"
        },
        "outputId": "13b49e29-313c-49d7-d3b5-408c9e2004b3"
      },
      "execution_count": null,
      "outputs": [
        {
          "output_type": "stream",
          "name": "stderr",
          "text": [
            "/usr/local/lib/python3.9/dist-packages/google/rpc/__init__.py:20: DeprecationWarning: Deprecated call to `pkg_resources.declare_namespace('google.rpc')`.\n",
            "Implementing implicit namespace packages (as specified in PEP 420) is preferred to `pkg_resources.declare_namespace`. See https://setuptools.pypa.io/en/latest/references/keywords.html#keyword-namespace-packages\n",
            "  pkg_resources.declare_namespace(__name__)\n",
            "/usr/local/lib/python3.9/dist-packages/pkg_resources/__init__.py:2349: DeprecationWarning: Deprecated call to `pkg_resources.declare_namespace('google')`.\n",
            "Implementing implicit namespace packages (as specified in PEP 420) is preferred to `pkg_resources.declare_namespace`. See https://setuptools.pypa.io/en/latest/references/keywords.html#keyword-namespace-packages\n",
            "  declare_namespace(parent)\n"
          ]
        }
      ]
    },
    {
      "cell_type": "code",
      "source": [
        "nltk.download('punkt')\n",
        "nltk.download('stopwords')\n",
        "nltk.download('wordnet')"
      ],
      "metadata": {
        "id": "VtwJGPD8Ryez",
        "colab": {
          "base_uri": "https://localhost:8080/"
        },
        "outputId": "de02f002-004a-4027-e0d0-fa8422b6ea33"
      },
      "execution_count": null,
      "outputs": [
        {
          "output_type": "stream",
          "name": "stderr",
          "text": [
            "/usr/local/lib/python3.9/dist-packages/ipykernel/ipkernel.py:283: DeprecationWarning: `should_run_async` will not call `transform_cell` automatically in the future. Please pass the result to `transformed_cell` argument and any exception that happen during thetransform in `preprocessing_exc_tuple` in IPython 7.17 and above.\n",
            "  and should_run_async(code)\n",
            "[nltk_data] Downloading package punkt to /root/nltk_data...\n",
            "[nltk_data]   Package punkt is already up-to-date!\n",
            "[nltk_data] Downloading package stopwords to /root/nltk_data...\n",
            "[nltk_data]   Package stopwords is already up-to-date!\n",
            "[nltk_data] Downloading package wordnet to /root/nltk_data...\n",
            "[nltk_data]   Package wordnet is already up-to-date!\n"
          ]
        },
        {
          "output_type": "execute_result",
          "data": {
            "text/plain": [
              "True"
            ]
          },
          "metadata": {},
          "execution_count": 3
        }
      ]
    },
    {
      "cell_type": "code",
      "source": [
        "!pip install opendatasets"
      ],
      "metadata": {
        "id": "Jc8OHTwKLCIy"
      },
      "execution_count": null,
      "outputs": []
    },
    {
      "cell_type": "code",
      "source": [
        "import opendatasets as od\n",
        "od.download(\"https://www.kaggle.com/datasets/gpreda/covid19-tweets\")"
      ],
      "metadata": {
        "colab": {
          "base_uri": "https://localhost:8080/"
        },
        "id": "eXZ99P_CKtdA",
        "outputId": "76ed2d7d-ff50-437c-fcf5-d8c160362a00"
      },
      "execution_count": null,
      "outputs": [
        {
          "output_type": "stream",
          "name": "stderr",
          "text": [
            "/usr/local/lib/python3.9/dist-packages/ipykernel/ipkernel.py:283: DeprecationWarning: `should_run_async` will not call `transform_cell` automatically in the future. Please pass the result to `transformed_cell` argument and any exception that happen during thetransform in `preprocessing_exc_tuple` in IPython 7.17 and above.\n",
            "  and should_run_async(code)\n",
            "/usr/local/lib/python3.9/dist-packages/kaggle/api_client.py:181: DeprecationWarning: HTTPResponse.getheaders() is deprecated and will be removed in urllib3 v2.1.0. Instead access HTTPResponse.headers directly.\n",
            "  response_data.getheaders())\n"
          ]
        },
        {
          "output_type": "stream",
          "name": "stdout",
          "text": [
            "Downloading covid19-tweets.zip to ./covid19-tweets\n"
          ]
        },
        {
          "output_type": "stream",
          "name": "stderr",
          "text": [
            "100%|██████████| 27.9M/27.9M [00:00<00:00, 95.7MB/s]\n"
          ]
        },
        {
          "output_type": "stream",
          "name": "stdout",
          "text": [
            "\n"
          ]
        }
      ]
    },
    {
      "cell_type": "markdown",
      "source": [
        "## **Topic Modeling** \n",
        "\n"
      ],
      "metadata": {
        "id": "x2xrlQJ9Eat6"
      }
    },
    {
      "cell_type": "markdown",
      "source": [
        "### **Задание 1**\n",
        "\n",
        "Загрузите набор данных, который содержит тексты постов про covid19\n",
        "([COVID19 Tweets](https://www.kaggle.com/datasets/gpreda/covid19-tweets))"
      ],
      "metadata": {
        "id": "6u62iq5qDH2K"
      }
    },
    {
      "cell_type": "code",
      "source": [
        "df = pd.read_csv('./covid19-tweets/covid19_tweets.csv')\n",
        "df = df[[\"text\"]]"
      ],
      "metadata": {
        "id": "47Mnui2wbyDI",
        "colab": {
          "base_uri": "https://localhost:8080/"
        },
        "outputId": "04cdf7fc-84cd-427f-ea8a-d7c206f25d06"
      },
      "execution_count": null,
      "outputs": [
        {
          "output_type": "stream",
          "name": "stderr",
          "text": [
            "/usr/local/lib/python3.9/dist-packages/ipykernel/ipkernel.py:283: DeprecationWarning: `should_run_async` will not call `transform_cell` automatically in the future. Please pass the result to `transformed_cell` argument and any exception that happen during thetransform in `preprocessing_exc_tuple` in IPython 7.17 and above.\n",
            "  and should_run_async(code)\n"
          ]
        }
      ]
    },
    {
      "cell_type": "markdown",
      "source": [
        "### **Задание 2**\n",
        "\n",
        "Из исходного датасета оставьте только колонку ‘text’  и подготовьте данные для дальнейшей работы, выполнив этапы предобработки из предыдущей лабораторной работы (нижний регистр, удаление стоп-слов и пунктуации, токенизация, лемматизация)"
      ],
      "metadata": {
        "id": "ZN-MDHGwDaNz"
      }
    },
    {
      "cell_type": "code",
      "source": [
        "# Переводим текст в нижний регистр\n",
        "df[\"text\"] = df[\"text\"].str.lower()\n",
        "\n",
        "# Удаляем пунктуацию и цифры\n",
        "df[\"text\"] = df[\"text\"].str.translate(str.maketrans('', '', string.punctuation + string.digits))\n",
        "\n",
        "# Токенизируем текст\n",
        "df[\"text\"] = df[\"text\"].apply(word_tokenize)\n",
        "\n",
        "# Удаляем стоп-слова\n",
        "stop_words = stopwords.words('english')\n",
        "df[\"text\"] = df[\"text\"].apply(lambda x: [word for word in x if word not in stop_words])\n",
        "\n",
        "# Лемматизируем текст\n",
        "lemmatizer = WordNetLemmatizer()\n",
        "df[\"text\"] = df[\"text\"].apply(lambda x: [lemmatizer.lemmatize(word) for word in x])"
      ],
      "metadata": {
        "id": "w_vv6hu0GI4l"
      },
      "execution_count": null,
      "outputs": []
    },
    {
      "cell_type": "code",
      "source": [
        "df.head()"
      ],
      "metadata": {
        "colab": {
          "base_uri": "https://localhost:8080/",
          "height": 206
        },
        "id": "TdHt_SpmHR77",
        "outputId": "a5a4b46c-2b38-4400-d869-78f23f9416dd"
      },
      "execution_count": null,
      "outputs": [
        {
          "output_type": "execute_result",
          "data": {
            "text/plain": [
              "                                                text\n",
              "0  [smelled, scent, hand, sanitizers, today, some...\n",
              "1  [hey, yankee, yankeespr, mlb, wouldnt, made, s...\n",
              "2  [diane, wdunlap, realdonaldtrump, trump, never...\n",
              "3  [brookbanktv, one, gift, covid, give, apprecia...\n",
              "4  [july, medium, bulletin, novel, coronavirusupd..."
            ],
            "text/html": [
              "\n",
              "  <div id=\"df-e03a021d-09a4-45e5-ab30-0a454074fa13\">\n",
              "    <div class=\"colab-df-container\">\n",
              "      <div>\n",
              "<style scoped>\n",
              "    .dataframe tbody tr th:only-of-type {\n",
              "        vertical-align: middle;\n",
              "    }\n",
              "\n",
              "    .dataframe tbody tr th {\n",
              "        vertical-align: top;\n",
              "    }\n",
              "\n",
              "    .dataframe thead th {\n",
              "        text-align: right;\n",
              "    }\n",
              "</style>\n",
              "<table border=\"1\" class=\"dataframe\">\n",
              "  <thead>\n",
              "    <tr style=\"text-align: right;\">\n",
              "      <th></th>\n",
              "      <th>text</th>\n",
              "    </tr>\n",
              "  </thead>\n",
              "  <tbody>\n",
              "    <tr>\n",
              "      <th>0</th>\n",
              "      <td>[smelled, scent, hand, sanitizers, today, some...</td>\n",
              "    </tr>\n",
              "    <tr>\n",
              "      <th>1</th>\n",
              "      <td>[hey, yankee, yankeespr, mlb, wouldnt, made, s...</td>\n",
              "    </tr>\n",
              "    <tr>\n",
              "      <th>2</th>\n",
              "      <td>[diane, wdunlap, realdonaldtrump, trump, never...</td>\n",
              "    </tr>\n",
              "    <tr>\n",
              "      <th>3</th>\n",
              "      <td>[brookbanktv, one, gift, covid, give, apprecia...</td>\n",
              "    </tr>\n",
              "    <tr>\n",
              "      <th>4</th>\n",
              "      <td>[july, medium, bulletin, novel, coronavirusupd...</td>\n",
              "    </tr>\n",
              "  </tbody>\n",
              "</table>\n",
              "</div>\n",
              "      <button class=\"colab-df-convert\" onclick=\"convertToInteractive('df-e03a021d-09a4-45e5-ab30-0a454074fa13')\"\n",
              "              title=\"Convert this dataframe to an interactive table.\"\n",
              "              style=\"display:none;\">\n",
              "        \n",
              "  <svg xmlns=\"http://www.w3.org/2000/svg\" height=\"24px\"viewBox=\"0 0 24 24\"\n",
              "       width=\"24px\">\n",
              "    <path d=\"M0 0h24v24H0V0z\" fill=\"none\"/>\n",
              "    <path d=\"M18.56 5.44l.94 2.06.94-2.06 2.06-.94-2.06-.94-.94-2.06-.94 2.06-2.06.94zm-11 1L8.5 8.5l.94-2.06 2.06-.94-2.06-.94L8.5 2.5l-.94 2.06-2.06.94zm10 10l.94 2.06.94-2.06 2.06-.94-2.06-.94-.94-2.06-.94 2.06-2.06.94z\"/><path d=\"M17.41 7.96l-1.37-1.37c-.4-.4-.92-.59-1.43-.59-.52 0-1.04.2-1.43.59L10.3 9.45l-7.72 7.72c-.78.78-.78 2.05 0 2.83L4 21.41c.39.39.9.59 1.41.59.51 0 1.02-.2 1.41-.59l7.78-7.78 2.81-2.81c.8-.78.8-2.07 0-2.86zM5.41 20L4 18.59l7.72-7.72 1.47 1.35L5.41 20z\"/>\n",
              "  </svg>\n",
              "      </button>\n",
              "      \n",
              "  <style>\n",
              "    .colab-df-container {\n",
              "      display:flex;\n",
              "      flex-wrap:wrap;\n",
              "      gap: 12px;\n",
              "    }\n",
              "\n",
              "    .colab-df-convert {\n",
              "      background-color: #E8F0FE;\n",
              "      border: none;\n",
              "      border-radius: 50%;\n",
              "      cursor: pointer;\n",
              "      display: none;\n",
              "      fill: #1967D2;\n",
              "      height: 32px;\n",
              "      padding: 0 0 0 0;\n",
              "      width: 32px;\n",
              "    }\n",
              "\n",
              "    .colab-df-convert:hover {\n",
              "      background-color: #E2EBFA;\n",
              "      box-shadow: 0px 1px 2px rgba(60, 64, 67, 0.3), 0px 1px 3px 1px rgba(60, 64, 67, 0.15);\n",
              "      fill: #174EA6;\n",
              "    }\n",
              "\n",
              "    [theme=dark] .colab-df-convert {\n",
              "      background-color: #3B4455;\n",
              "      fill: #D2E3FC;\n",
              "    }\n",
              "\n",
              "    [theme=dark] .colab-df-convert:hover {\n",
              "      background-color: #434B5C;\n",
              "      box-shadow: 0px 1px 3px 1px rgba(0, 0, 0, 0.15);\n",
              "      filter: drop-shadow(0px 1px 2px rgba(0, 0, 0, 0.3));\n",
              "      fill: #FFFFFF;\n",
              "    }\n",
              "  </style>\n",
              "\n",
              "      <script>\n",
              "        const buttonEl =\n",
              "          document.querySelector('#df-e03a021d-09a4-45e5-ab30-0a454074fa13 button.colab-df-convert');\n",
              "        buttonEl.style.display =\n",
              "          google.colab.kernel.accessAllowed ? 'block' : 'none';\n",
              "\n",
              "        async function convertToInteractive(key) {\n",
              "          const element = document.querySelector('#df-e03a021d-09a4-45e5-ab30-0a454074fa13');\n",
              "          const dataTable =\n",
              "            await google.colab.kernel.invokeFunction('convertToInteractive',\n",
              "                                                     [key], {});\n",
              "          if (!dataTable) return;\n",
              "\n",
              "          const docLinkHtml = 'Like what you see? Visit the ' +\n",
              "            '<a target=\"_blank\" href=https://colab.research.google.com/notebooks/data_table.ipynb>data table notebook</a>'\n",
              "            + ' to learn more about interactive tables.';\n",
              "          element.innerHTML = '';\n",
              "          dataTable['output_type'] = 'display_data';\n",
              "          await google.colab.output.renderOutput(dataTable, element);\n",
              "          const docLink = document.createElement('div');\n",
              "          docLink.innerHTML = docLinkHtml;\n",
              "          element.appendChild(docLink);\n",
              "        }\n",
              "      </script>\n",
              "    </div>\n",
              "  </div>\n",
              "  "
            ]
          },
          "metadata": {},
          "execution_count": 12
        }
      ]
    },
    {
      "cell_type": "markdown",
      "source": [
        "### **Задание 3**\n",
        "\n",
        "На основе получившихся данных после предобработки создайте словарь слов и корпус частот их встречаймости с помощью библиотеки *gensim*"
      ],
      "metadata": {
        "id": "wO_GWVekGZxh"
      }
    },
    {
      "cell_type": "code",
      "source": [
        "# Создаем словарь слов\n",
        "dictionary = Dictionary(df[\"text\"])\n",
        "\n",
        "# Создаем корпус частот встречаемости\n",
        "corpus = [dictionary.doc2bow(text) for text in df[\"text\"]]\n",
        "\n",
        "# Применяем TF-IDF модель к корпусу\n",
        "tfidf = TfidfModel(corpus)\n",
        "corpus_tfidf = tfidf[corpus]"
      ],
      "metadata": {
        "id": "alcXWYWoGX9E"
      },
      "execution_count": null,
      "outputs": []
    },
    {
      "cell_type": "code",
      "source": [
        "print(dictionary)"
      ],
      "metadata": {
        "colab": {
          "base_uri": "https://localhost:8080/"
        },
        "id": "UVRxpOiCXSVk",
        "outputId": "a5146faa-3f3f-486b-9e3a-29570d005c6e"
      },
      "execution_count": null,
      "outputs": [
        {
          "output_type": "stream",
          "name": "stdout",
          "text": [
            "Dictionary<327539 unique tokens: ['hand', 'httpstcoqzvybrogb', 'intoxicated', 'past', 'sanitizers']...>\n"
          ]
        },
        {
          "output_type": "stream",
          "name": "stderr",
          "text": [
            "/usr/local/lib/python3.9/dist-packages/ipykernel/ipkernel.py:283: DeprecationWarning: `should_run_async` will not call `transform_cell` automatically in the future. Please pass the result to `transformed_cell` argument and any exception that happen during thetransform in `preprocessing_exc_tuple` in IPython 7.17 and above.\n",
            "  and should_run_async(code)\n"
          ]
        }
      ]
    },
    {
      "cell_type": "markdown",
      "source": [
        "### **Задание 4**\n",
        "\n",
        "Постройте и обучите модель LDA, передав входные параметры. Определите наиболее оптимальное количество скрытых тем."
      ],
      "metadata": {
        "id": "tTi2I3YGH3ih"
      }
    },
    {
      "cell_type": "code",
      "source": [
        "# Функция для определения оптимального количества тем\n",
        "def compute_coherence_values(dictionary, corpus, texts, limit, start=2, step=1):\n",
        "    coherence_values = []\n",
        "    for num_topics in range(start, limit, step):\n",
        "        lda_model = LdaModel(corpus=corpus, num_topics=num_topics, id2word=dictionary)\n",
        "        coherence_model = CoherenceModel(model=lda_model, texts=texts, dictionary=dictionary, coherence='c_v')\n",
        "        coherence_values.append(coherence_model.get_coherence())\n",
        "    return coherence_values"
      ],
      "metadata": {
        "colab": {
          "base_uri": "https://localhost:8080/"
        },
        "id": "3nTfI_5lGmzA",
        "outputId": "debbf797-8fd7-40f1-9d41-7a9699c9b7e7"
      },
      "execution_count": null,
      "outputs": [
        {
          "output_type": "stream",
          "name": "stdout",
          "text": [
            "Optimal number of topics: 6\n"
          ]
        }
      ]
    },
    {
      "cell_type": "code",
      "source": [
        "# Вычисляем coherence score для разного количества тем\n",
        "coherence_values = compute_coherence_values(dictionary=dictionary, corpus=corpus_tfidf, texts=df[\"text\"], start=2, limit=20, step=1)"
      ],
      "metadata": {
        "id": "iOVWweaySsGb"
      },
      "execution_count": null,
      "outputs": []
    },
    {
      "cell_type": "code",
      "source": [
        "# Находим оптимальное количество тем\n",
        "optimal_num_topics = coherence_values.index(max(coherence_values)) + 2\n",
        "print(f\"Optimal number of topics: {optimal_num_topics}\")"
      ],
      "metadata": {
        "id": "nvV50nszSvTy"
      },
      "execution_count": null,
      "outputs": []
    },
    {
      "cell_type": "code",
      "source": [
        "# Обучаем модель LDA с оптимальным количеством тем\n",
        "lda_model = LdaModel(corpus=corpus_tfidf, num_topics=optimal_num_topics, id2word=dictionary)\n",
        "\n",
        "# Выводим топ-слова для каждой темы\n",
        "for idx, topic in lda_model.print_topics():\n",
        "    print('Topic: {} \\nWords: {}'.format(idx, topic))\n",
        "    print('\\n')"
      ],
      "metadata": {
        "colab": {
          "base_uri": "https://localhost:8080/"
        },
        "id": "OsEEzb5WIiYb",
        "outputId": "d007055d-c917-4865-8537-6a53b36ef753"
      },
      "execution_count": null,
      "outputs": [
        {
          "output_type": "stream",
          "name": "stdout",
          "text": [
            "Topic: 0 \n",
            "Words: 0.006*\"’\" + 0.006*\"covid\" + 0.004*\"mask\" + 0.004*\"people\" + 0.003*\"realdonaldtrump\" + 0.003*\"trump\" + 0.003*\"amp\" + 0.003*\"get\" + 0.003*\"pandemic\" + 0.003*\"coronavirus\"\n",
            "\n",
            "\n",
            "Topic: 1 \n",
            "Words: 0.019*\"case\" + 0.012*\"new\" + 0.011*\"death\" + 0.009*\"total\" + 0.007*\"coronavirus\" + 0.007*\"india\" + 0.006*\"covid\" + 0.005*\"confirmed\" + 0.005*\"update\" + 0.005*\"august\"\n",
            "\n",
            "\n",
            "Topic: 2 \n",
            "Words: 0.004*\"aug\" + 0.002*\"berlin\" + 0.002*\"status\" + 0.002*\"power\" + 0.001*\"rally\" + 0.001*\"enough\" + 0.001*\"germany\" + 0.001*\"known\" + 0.001*\"technology\" + 0.001*\"watching\"\n",
            "\n",
            "\n",
            "Topic: 3 \n",
            "Words: 0.005*\"covid\" + 0.004*\"’\" + 0.004*\"pandemic\" + 0.003*\"amp\" + 0.003*\"student\" + 0.003*\"still\" + 0.002*\"people\" + 0.002*\"coronavirus\" + 0.002*\"u\" + 0.002*\"school\"\n",
            "\n",
            "\n",
            "Topic: 4 \n",
            "Words: 0.004*\"cross\" + 0.003*\"joebiden\" + 0.003*\"mark\" + 0.002*\"democrat\" + 0.002*\"alabama\" + 0.002*\"potus\" + 0.002*\"fresh\" + 0.002*\"maga\" + 0.002*\"biden\" + 0.002*\"bc\"\n",
            "\n",
            "\n",
            "Topic: 5 \n",
            "Words: 0.003*\"bringing\" + 0.003*\"blood\" + 0.003*\"recorded\" + 0.002*\"plasma\" + 0.002*\"auspol\" + 0.002*\"need\" + 0.002*\"hours…\" + 0.002*\"caused\" + 0.001*\"tweet\" + 0.001*\"tonight\"\n",
            "\n",
            "\n"
          ]
        }
      ]
    },
    {
      "cell_type": "markdown",
      "source": [
        "Тема 0 может быть связана с вопросами о масках, Трампе и пандемии, тема 1 - с обновлениями статистики по заболевшим и умершим в связи с COVID-19 в Индии и в мире, тема 2 - с событиями в Берлине и с технологиями, тема 3 - с образованием и пандемией, тема 4 - с выборами и политическими партиями, а тема 5 - с донорством плазмы и другими темами."
      ],
      "metadata": {
        "id": "psKinBqIRTEP"
      }
    },
    {
      "cell_type": "markdown",
      "source": [
        "### **Задание 5**\n",
        "Визуализируйте результаты."
      ],
      "metadata": {
        "id": "8_SpfwgvS7ZK"
      }
    },
    {
      "cell_type": "code",
      "source": [
        "# Визуализируем модель LDA\n",
        "vis = gensimvis.prepare(lda_model, corpus_tfidf, dictionary)\n",
        "pyLDAvis.display(vis)"
      ],
      "metadata": {
        "colab": {
          "base_uri": "https://localhost:8080/",
          "height": 950
        },
        "id": "hqj5vvMNOr1U",
        "outputId": "89f2d708-0e65-4c0f-b4d3-5e13724c32e7"
      },
      "execution_count": null,
      "outputs": [
        {
          "output_type": "stream",
          "name": "stderr",
          "text": [
            "/usr/local/lib/python3.9/dist-packages/ipykernel/ipkernel.py:283: DeprecationWarning: `should_run_async` will not call `transform_cell` automatically in the future. Please pass the result to `transformed_cell` argument and any exception that happen during thetransform in `preprocessing_exc_tuple` in IPython 7.17 and above.\n",
            "  and should_run_async(code)\n",
            "/usr/local/lib/python3.9/dist-packages/pyLDAvis/_prepare.py:243: FutureWarning: In a future version of pandas all arguments of DataFrame.drop except for the argument 'labels' will be keyword-only.\n",
            "  default_term_info = default_term_info.sort_values(\n"
          ]
        },
        {
          "output_type": "execute_result",
          "data": {
            "text/plain": [
              "<IPython.core.display.HTML object>"
            ],
            "text/html": [
              "\n",
              "<link rel=\"stylesheet\" type=\"text/css\" href=\"https://cdn.jsdelivr.net/gh/bmabey/pyLDAvis@3.4.0/pyLDAvis/js/ldavis.v1.0.0.css\">\n",
              "\n",
              "\n",
              "<div id=\"ldavis_el2811403191966144328406099846\" style=\"background-color:white;\"></div>\n",
              "<script type=\"text/javascript\">\n",
              "\n",
              "var ldavis_el2811403191966144328406099846_data = {\"mdsDat\": {\"x\": [-0.19704146036837278, -0.15672408857176884, 0.00801081247768958, 0.11869040346717508, 0.11777443670382332, 0.10928989629145353], \"y\": [0.022717960165180785, 0.050884761986604944, -0.19518935082838126, 0.0399505636000077, 0.04138440785871671, 0.040251657217871606], \"topics\": [1, 2, 3, 4, 5, 6], \"cluster\": [1, 1, 1, 1, 1, 1], \"Freq\": [28.70745754556901, 25.463153849699616, 16.877148110101587, 10.406035369026192, 9.397796206074645, 9.14840891952896]}, \"tinfo\": {\"Term\": [\"case\", \"new\", \"death\", \"total\", \"india\", \"confirmed\", \"coronavirus\", \"august\", \"update\", \"reported\", \"\\u2019\", \"last\", \"positive\", \"number\", \"covid\", \"report\", \"gmt\", \"hour\", \"\\u2026\", \"active\", \"coronaviruspandemic\", \"aug\", \"realdonaldtrump\", \"mask\", \"tally\", \"cross\", \"coronavirusupdate\", \"trump\", \"spike\", \"lakh\", \"slow\", \"y\\u2026\", \"identify\", \"counted\", \"sooner\", \"problem\", \"selfreporting\", \"sick\", \"full\", \"doesnt\", \"realdonaldtrumps\", \"worldwide\", \"maybe\", \"abo\\u2026\", \"trying\", \"hey\", \"guideline\", \"youtube\", \"scam\", \"football\", \"\\ud83d\\ude37\", \"na\", \"recently\", \"cdcgov\", \"went\", \"little\", \"word\", \"common\", \"different\", \"detail\", \"america\", \"earlyvoting\", \"le\", \"eod\", \"willing\", \"point\", \"challenge\", \"h\\u2026\", \"realdonaldtrump\", \"died\", \"spread\", \"person\", \"trump\", \"american\", \"\\u2018\", \"protest\", \"mask\", \"china\", \"said\", \"end\", \"\\u2019\", \"usa\", \"get\", \"even\", \"symptom\", \"dead\", \"people\", \"like\", \"help\", \"covid\", \"know\", \"watch\", \"time\", \"would\", \"say\", \"one\", \"amp\", \"pandemic\", \"\\u201c\", \"u\", \"coronavirus\", \"need\", \"covid\\u2026\", \"want\", \"day\", \"many\", \"death\", \"news\", \"lost\", \"happy\", \"saying\", \"actually\", \"teacher\", \"normal\", \"parent\", \"matter\", \"game\", \"hoax\", \"issue\", \"truth\", \"making\", \"dem\", \"especially\", \"serious\", \"ask\", \"september\", \"hard\", \"seems\", \"yes\", \"london\", \"art\", \"body\", \"keeping\", \"fear\", \"indiafightscorona\", \"cure\", \"oh\", \"instead\", \"education\", \"safe\", \"eg\", \"fact\", \"always\", \"service\", \"wonder\", \"continue\", \"healthcare\", \"safety\", \"management\", \"student\", \"plan\", \"impact\", \"yet\", \"still\", \"flu\", \"use\", \"travel\", \"scientist\", \"nothing\", \"pandemic\", \"school\", \"covid\", \"\\u2019\", \"amp\", \"university\", \"u\", \"people\", \"business\", \"health\", \"also\", \"coronavirus\", \"time\", \"life\", \"many\", \"year\", \"one\", \"stay\", \"need\", \"government\", \"new\", \"get\", \"week\", \"like\", \"mask\", \"total\", \"confirmed\", \"reported\", \"gmt\", \"coronaviruspandemic\", \"tally\", \"coronavirusupdate\", \"spike\", \"lakh\", \"active\", \"canada\", \"odisha\", \"sunday\", \"brazil\", \"violence\", \"date\", \"sample\", \"fatality\", \"exam\", \"tip\", \"emergency\", \"arizona\", \"within\", \"average\", \"york\", \"deaths\\u2026\", \"milestone\", \"maharashtra\", \"hospitalization\", \"single\", \"nov\", \"hour\", \"case\", \"recovered\", \"india\", \"highest\", \"update\", \"death\", \"august\", \"new\", \"record\", \"last\", \"report\", \"recovery\", \"positive\", \"number\", \"coronavirus\", \"\\u2026\", \"rate\", \"covid\", \"test\", \"day\", \"today\", \"state\", \"aug\", \"berlin\", \"status\", \"rally\", \"germany\", \"known\", \"technology\", \"watching\", \"hr\", \"effective\", \"immunity\", \"\\u2022\", \"developed\", \"hell\", \"fda\", \"linked\", \"researcher\", \"phone\", \"ensure\", \"\\u30b3\\u30ed\\u30ca\\u30a6\\u30a3\\u30eb\\u30b9\", \"covidjp\", \"regarding\", \"bill\", \"gt\", \"positivity\", \"men\", \"insider\", \"robert\", \"moving\", \"failure\", \"sport\", \"fake\", \"power\", \"administration\", \"enough\", \"strategy\", \"california\", \"cross\", \"joebiden\", \"mark\", \"democrat\", \"alabama\", \"potus\", \"fresh\", \"maga\", \"biden\", \"bc\", \"combat\", \"v\", \"france\", \"lord\", \"ncov\", \"protester\", \"additional\", \"ireland\", \"vulnerable\", \"zealand\", \"thehill\", \"have\\u2026\", \"battle\", \"concerned\", \"forward\", \"donald\", \"he\", \"allow\", \"agenda\", \"blm\", \"become\", \"fema\", \"didnt\", \"killed\", \"friday\", \"bring\", \"lie\", \"bringing\", \"recorded\", \"auspol\", \"caused\", \"hours\\u2026\", \"tonight\", \"tot\", \"pcr\", \"component\", \"new\\u2026\", \"corona\\u2026\", \"playing\", \"japan\", \"fund\", \"iowa\", \"guess\", \"zero\", \"ppl\", \"yeah\", \"lowest\", \"holiday\", \"except\", \"europe\", \"speech\", \"couple\", \"podcast\", \"wedding\", \"elderly\", \"nz\", \"st\\u2026\", \"tweet\", \"blood\", \"plasma\", \"wait\", \"type\", \"need\", \"higher\", \"hospital\"], \"Freq\": [2043.0, 1541.0, 1410.0, 806.0, 721.0, 493.0, 1434.0, 554.0, 583.0, 418.0, 1642.0, 558.0, 518.0, 603.0, 2221.0, 504.0, 322.0, 357.0, 672.0, 306.0, 293.0, 229.0, 650.0, 744.0, 282.0, 210.0, 278.0, 659.0, 256.0, 251.0, 193.9975155611099, 175.7894527137219, 161.54691814779417, 160.9188631531936, 156.4488643032505, 151.5558868461153, 145.7288053864002, 138.1248394995193, 132.0584946472391, 129.61589018320933, 121.39940635987917, 219.97169750568537, 116.36058869062566, 115.55459695249671, 118.81139073292799, 115.91513520848143, 125.97812810205616, 116.92557345328298, 111.10604143369194, 106.74164345842237, 104.75130249144921, 102.397648141771, 103.12342593749364, 102.99676513734708, 101.91790723870062, 122.47675802198334, 100.66539395978836, 99.95153825451555, 112.54513634101467, 99.11731142774853, 217.23392545160598, 155.52189894901042, 154.02670814137053, 133.93631518015053, 162.96493487223125, 120.55475455049827, 140.1441458516359, 107.25244022038275, 548.216789746232, 378.2985192724421, 381.0187642103931, 268.9753050537282, 538.3096238694862, 388.094168872821, 223.85437364861377, 189.8493036088364, 556.859958431519, 230.4497726754881, 233.6672765039316, 175.80090011144324, 994.2630535638568, 189.31255393481717, 459.6206866256335, 327.6072512727745, 225.37320780561436, 200.67388621301484, 552.5018410061954, 369.5297761030603, 332.2580350226168, 940.7468526221963, 340.1807296905512, 231.0929448077494, 371.8088489221297, 275.03282244700006, 294.93296403987017, 361.3683475075272, 468.9030838420528, 432.16036955008445, 311.1085021683948, 390.4240338138374, 409.2807642746895, 293.78838858444857, 273.6603944819094, 246.71232563262512, 294.7825229597682, 257.1102325035531, 302.08167221402255, 250.79740345201114, 202.62756634038695, 143.93663422149686, 144.56993671113005, 136.22443918862643, 128.49205011876586, 139.41339665304605, 129.4593882146502, 128.95417292275025, 128.90422223542384, 122.07761750475203, 139.80539092680934, 110.91763478034643, 123.1513912927916, 112.41680316395532, 107.6703623783154, 106.67904892416011, 104.76642099330725, 104.2164857069019, 124.01481187835871, 103.55683542401857, 120.8953837626296, 99.29816888951008, 103.31659601844648, 98.45431886825938, 98.00498939965766, 123.39284525552029, 96.3986484925519, 94.84029069017886, 94.10645525617144, 93.32351932484723, 160.98250667356223, 294.6273398202744, 146.85856724651785, 142.2463593178235, 141.86069693536984, 158.92661767756655, 114.89858877247838, 143.7954217094248, 167.7997836052715, 151.2650453869825, 117.70288788836046, 357.11866986439884, 225.0703478088718, 181.81378131850198, 188.89630133911356, 348.00573415988896, 170.8553664998029, 190.34993192639828, 143.79605327914624, 140.88796620571028, 130.52445767640094, 493.10787362293826, 334.8294731968877, 718.4982005632357, 557.5761140596896, 407.5182899040643, 204.00024264466157, 339.4747818566228, 342.4994178348045, 198.6509928510664, 260.4857494904375, 169.80676643309545, 341.3238560599956, 249.03467790083752, 213.48470328632243, 218.67814968787113, 206.77741665071332, 227.12654449268047, 174.9844559797994, 208.93694785740408, 188.12426403400775, 238.02410190078706, 198.85022880703227, 186.17740988248238, 188.64126053032655, 186.687669635106, 806.0163458660566, 492.66937394544425, 418.0663193289346, 321.61754052332725, 293.1985661552111, 282.2222402262174, 277.84902522457105, 255.85492037950766, 250.48722009599345, 305.69192972827153, 184.38387400143762, 155.80259755730447, 114.78190438450358, 120.14892845409085, 104.19091305831455, 96.64930306882724, 129.17788707618647, 94.82113188349314, 94.24807814786259, 91.39786864652696, 90.51436831711038, 89.83286274786596, 87.81698853003753, 90.31051665202777, 86.93820023100065, 84.02985779905806, 81.56907238475183, 81.54521169333024, 80.74901272859087, 125.018216139242, 137.62353068464927, 335.13224473135347, 1763.574164796325, 268.1186288227183, 638.6715601255729, 171.88595940131344, 487.02850470256016, 1049.142172350866, 456.53662337533416, 1131.6795133108742, 217.3393851348847, 445.7431328119164, 387.66623135890035, 241.33448212460695, 373.85068708827225, 407.89537492046577, 680.7921313508527, 400.92126941898647, 199.75767276501188, 531.3187566133812, 277.94283648998925, 305.5419605062552, 275.67193838649683, 243.11700350309624, 228.83912072658035, 99.04849939069524, 95.39615850117764, 82.03778437066497, 78.25432013089475, 73.72596831406236, 72.91895051885193, 70.93102178777231, 70.4105786310638, 69.8170788618565, 68.65813322147454, 67.36525817923209, 67.54487857236822, 67.19187198565875, 65.7780190580573, 63.712010617378915, 68.97768558441541, 61.62817977816268, 61.35259109642749, 59.398778393740955, 59.39877177569471, 59.408685608969755, 59.9894324030629, 59.056532750225905, 58.73259262262458, 57.711540593803896, 59.44082284153558, 55.58765072066655, 54.54913697682838, 53.36048954489876, 60.02313149454255, 59.020967369705154, 87.98908231063947, 64.71983978980204, 79.24121642304488, 63.514217069253945, 68.80791946213812, 209.93391382275425, 165.10483530637114, 160.52243962043408, 118.49620503097822, 110.17089455821639, 100.07526054388101, 84.64577064280205, 82.42700593915362, 82.31241825477004, 80.40495646897674, 79.69789212252034, 79.30394167182271, 78.778620612803, 63.347642482357685, 62.46439329549553, 60.34219614956593, 58.70458800188648, 58.176673000918996, 58.02222587218146, 55.404717304374316, 53.81576648710206, 53.70642645486164, 51.9855671150385, 51.65018357020748, 50.97690621414439, 50.13196249719745, 50.08329620155311, 50.1394813427511, 49.536775345093965, 49.514048468927236, 61.87994350908134, 50.650368369964724, 62.98239274417883, 64.04656041666016, 64.58898714815567, 53.93086817841538, 61.192262005335984, 161.71188303348106, 139.87845747092152, 88.03926603891148, 76.35046977047317, 78.01403241807064, 64.36765562017963, 63.09840531455176, 64.07887413547623, 58.223034473480354, 57.74518996050122, 56.96312822765894, 56.84643220802127, 56.69180140012824, 55.52133863587884, 54.9436825749671, 53.91640036350544, 52.26171631818981, 51.882036797149986, 52.18005761371682, 50.98008484240743, 50.36563436417562, 48.15353293294, 47.74953616534907, 47.804998338515354, 46.72158776780531, 44.949558971427095, 44.21165752123177, 43.03663618235077, 42.9326849715587, 42.980627096593075, 70.00698771460522, 142.32391312300862, 89.64772433381472, 63.11137412483109, 62.76902429726463, 85.30232343025921, 49.800394382732726, 54.343393641921416], \"Total\": [2043.0, 1541.0, 1410.0, 806.0, 721.0, 493.0, 1434.0, 554.0, 583.0, 418.0, 1642.0, 558.0, 518.0, 603.0, 2221.0, 504.0, 322.0, 357.0, 672.0, 306.0, 293.0, 229.0, 650.0, 744.0, 282.0, 210.0, 278.0, 659.0, 256.0, 251.0, 194.60490650729386, 176.39647829157653, 162.15357935984963, 161.53052742823382, 157.0551555517016, 152.1715609883219, 146.33479111169314, 138.73367848554588, 132.67655444815105, 130.2292058408081, 122.00558810453167, 221.11027694166316, 116.97216120728048, 116.16269127402144, 119.44184384201574, 116.53074821928347, 126.64975435024742, 117.5559492228269, 111.71457673961554, 107.35393204568773, 105.36085765912634, 103.00538531018492, 103.73619402451594, 103.61066650870708, 102.5284175150803, 123.21813088960961, 101.27480177099086, 100.56234609252998, 113.2387920420062, 99.7357247331554, 219.16203208840997, 156.96553159350583, 156.07309483055002, 135.35785451603135, 166.6038614982342, 121.90851985418608, 143.36531798790378, 108.11326427606294, 650.9201452225785, 434.17352719524814, 439.2252471335555, 299.0549877050584, 659.2699898529082, 460.92165694881515, 246.67813754560981, 207.98654388368698, 744.0171555264677, 261.71371794791406, 271.31180697011035, 192.22920980767097, 1642.2410144161481, 211.4274428252765, 664.5462745290472, 436.8996839738343, 271.70056928721135, 233.3744922638941, 987.8250378248105, 558.6571937067329, 482.5519026307008, 2221.3381416306415, 506.239149346027, 286.99546010121435, 635.9017466063826, 391.400546682566, 456.4559184613154, 648.8628226607663, 1037.591256789037, 966.6861530904374, 533.2604027107142, 873.65380623644, 1434.8523985727084, 588.5439020895453, 524.9365868078268, 355.3847931033282, 774.0339445696835, 483.8315128269895, 1410.5830529116754, 524.7403895687947, 203.3025501187751, 144.54600740764712, 145.18640747430945, 136.84192218754595, 129.10025805124735, 140.07356059148992, 130.07330075889203, 129.5692722858585, 129.530994366669, 122.69134733904984, 140.53127847123937, 111.526589738746, 123.83824368414841, 113.04697106180676, 108.28201229307143, 107.28959544195001, 105.3756004270693, 104.8234821270626, 124.74028777976623, 104.17113025583873, 121.61629393636831, 99.90752033017424, 103.95271899319692, 99.06312281440765, 98.6136765457768, 124.16974021472512, 97.0165006595852, 95.4491798427732, 94.72036769049083, 93.93537506691479, 162.2043713308502, 299.0648463580466, 148.0672826695281, 143.4035906292438, 143.0233713169024, 160.48840337775204, 115.67151580747951, 145.45954841365747, 170.65560133309336, 154.31754027011647, 118.9970833722696, 389.68804466231705, 242.0633818410538, 192.97571042045098, 208.1445172673676, 435.84227818299814, 187.0395131082866, 218.61902109310904, 152.8199344114417, 148.81449278041845, 134.8520998863372, 966.6861530904374, 554.1521286567712, 2221.3381416306415, 1642.2410144161481, 1037.591256789037, 295.4220440080352, 873.65380623644, 987.8250378248105, 311.99167249495775, 605.3058502852158, 228.48838581227028, 1434.8523985727084, 635.9017466063826, 443.29449864249045, 483.8315128269895, 446.24937848653883, 648.8628226607663, 267.68988503744174, 588.5439020895453, 378.5011780668775, 1541.9054109486294, 664.5462745290472, 443.98462775157594, 558.6571937067329, 744.0171555264677, 806.6706837352617, 493.31211418417934, 418.6966356459258, 322.24253960833573, 293.8234529997478, 282.8466314722828, 278.4728421724268, 256.4853434731916, 251.1146284181288, 306.5048034030221, 185.01945203218983, 156.42754928653125, 115.4125335195865, 120.8964140818625, 104.8405269074628, 97.27832269800106, 130.0208294999074, 95.44821698832328, 94.87720639160486, 92.035118703995, 91.15056554240276, 90.472101932828, 88.44795203454558, 90.96534637250622, 87.56922821552902, 84.65494988386003, 82.19425446508927, 82.17073223377754, 81.37632565782121, 125.99063813880517, 138.8732633654351, 357.80582510942736, 2043.6903230320704, 286.4330160719031, 721.8790613547014, 181.5154329174673, 583.944051471101, 1410.5830529116754, 554.189983010546, 1541.9054109486294, 243.13831235240363, 558.3837876828204, 504.1017314845296, 298.1608693020335, 518.1380141186154, 603.3499068141888, 1434.8523985727084, 672.9757682517288, 276.9788473410578, 2221.3381416306415, 566.631612622258, 774.0339445696835, 612.2899501385203, 485.9492029826554, 229.4903111070282, 99.70071221006543, 96.05527502559009, 82.68500951133693, 78.89488906431785, 74.369531741482, 73.57217875464723, 71.57511523105565, 71.05485616426711, 70.45867515607146, 69.29542542202958, 68.00026426666574, 68.18361609898275, 67.83862997015038, 66.41776152447625, 64.35380401922744, 69.67605232512479, 62.268708224065335, 61.99320185507009, 60.032024282027216, 60.03201766398097, 60.050705031490246, 60.63932855064405, 59.69757018197946, 59.37490290653889, 58.35408490363459, 60.11308967478114, 56.23437677107677, 55.19236663875611, 53.999220028157964, 61.483069966753185, 62.36711249650272, 128.08356390203312, 75.49509426911189, 133.70045870093867, 75.51797594555579, 110.48186779561652, 210.59245359798234, 165.75217528115982, 161.1692416577415, 119.14601733883445, 110.82814307973231, 100.75872609292445, 85.29860089083381, 83.07018233208912, 82.95529179529228, 81.05126337257146, 80.34370116283495, 79.95111012229606, 79.4242146794443, 63.99618063786651, 63.109794544582854, 60.994373939610476, 59.35186853675753, 58.81913555115438, 58.66701666683217, 56.047092188612815, 54.46422177512592, 54.35405913475674, 52.63234761982741, 52.295238568861585, 51.6232051291304, 50.77616690667751, 50.72809454773129, 50.788036424435425, 50.182534198865596, 50.163536586310876, 63.099743162438116, 51.453848487504, 76.95575425663915, 79.95203011792873, 92.67829807488437, 60.8692673137324, 88.51516753067017, 162.36891317850478, 140.52706417405653, 88.68167388235008, 76.99861254924365, 78.68694984114954, 65.01389780651351, 63.736660616780924, 64.73074204634675, 58.86086939571579, 58.393213750343094, 57.606973734639254, 57.49118046075464, 57.33538831577446, 56.166463262945044, 55.59030374474779, 54.56423496312732, 52.907159863054474, 52.52682077090785, 52.828907632593726, 51.62496306795164, 51.01188257584882, 48.80025743414095, 48.39309682912162, 48.455858706115414, 47.36659629477581, 45.59084739796201, 44.85460875852383, 43.68030421890344, 43.5775469616537, 43.62864626212268, 71.09440649593681, 146.6034230547545, 98.48470124814116, 73.88871196200957, 96.86998594437895, 588.5439020895453, 63.12391311034576, 274.4540832934243], \"Category\": [\"Default\", \"Default\", \"Default\", \"Default\", \"Default\", \"Default\", \"Default\", \"Default\", \"Default\", \"Default\", \"Default\", \"Default\", \"Default\", \"Default\", \"Default\", \"Default\", \"Default\", \"Default\", \"Default\", \"Default\", \"Default\", \"Default\", \"Default\", \"Default\", \"Default\", \"Default\", \"Default\", \"Default\", \"Default\", \"Default\", \"Topic1\", \"Topic1\", \"Topic1\", \"Topic1\", \"Topic1\", \"Topic1\", \"Topic1\", \"Topic1\", \"Topic1\", \"Topic1\", \"Topic1\", \"Topic1\", \"Topic1\", \"Topic1\", \"Topic1\", \"Topic1\", \"Topic1\", \"Topic1\", \"Topic1\", \"Topic1\", \"Topic1\", \"Topic1\", \"Topic1\", \"Topic1\", \"Topic1\", \"Topic1\", \"Topic1\", \"Topic1\", \"Topic1\", \"Topic1\", \"Topic1\", \"Topic1\", \"Topic1\", \"Topic1\", \"Topic1\", \"Topic1\", \"Topic1\", \"Topic1\", \"Topic1\", \"Topic1\", \"Topic1\", \"Topic1\", \"Topic1\", \"Topic1\", \"Topic1\", \"Topic1\", \"Topic1\", \"Topic1\", \"Topic1\", \"Topic1\", \"Topic1\", \"Topic1\", \"Topic1\", \"Topic1\", \"Topic1\", \"Topic1\", \"Topic1\", \"Topic1\", \"Topic1\", \"Topic1\", \"Topic1\", \"Topic1\", \"Topic1\", \"Topic1\", \"Topic1\", \"Topic1\", \"Topic1\", \"Topic1\", \"Topic1\", \"Topic1\", \"Topic1\", \"Topic1\", \"Topic1\", \"Topic1\", \"Topic1\", \"Topic1\", \"Topic1\", \"Topic1\", \"Topic2\", \"Topic2\", \"Topic2\", \"Topic2\", \"Topic2\", \"Topic2\", \"Topic2\", \"Topic2\", \"Topic2\", \"Topic2\", \"Topic2\", \"Topic2\", \"Topic2\", \"Topic2\", \"Topic2\", \"Topic2\", \"Topic2\", \"Topic2\", \"Topic2\", \"Topic2\", \"Topic2\", \"Topic2\", \"Topic2\", \"Topic2\", \"Topic2\", \"Topic2\", \"Topic2\", \"Topic2\", \"Topic2\", \"Topic2\", \"Topic2\", \"Topic2\", \"Topic2\", \"Topic2\", \"Topic2\", \"Topic2\", \"Topic2\", \"Topic2\", \"Topic2\", \"Topic2\", \"Topic2\", \"Topic2\", \"Topic2\", \"Topic2\", \"Topic2\", \"Topic2\", \"Topic2\", \"Topic2\", \"Topic2\", \"Topic2\", \"Topic2\", \"Topic2\", \"Topic2\", \"Topic2\", \"Topic2\", \"Topic2\", \"Topic2\", \"Topic2\", \"Topic2\", \"Topic2\", \"Topic2\", \"Topic2\", \"Topic2\", \"Topic2\", \"Topic2\", \"Topic2\", \"Topic2\", \"Topic2\", \"Topic2\", \"Topic2\", \"Topic2\", \"Topic2\", \"Topic2\", \"Topic2\", \"Topic2\", \"Topic2\", \"Topic3\", \"Topic3\", \"Topic3\", \"Topic3\", \"Topic3\", \"Topic3\", \"Topic3\", \"Topic3\", \"Topic3\", \"Topic3\", \"Topic3\", \"Topic3\", \"Topic3\", \"Topic3\", \"Topic3\", \"Topic3\", \"Topic3\", \"Topic3\", \"Topic3\", \"Topic3\", \"Topic3\", \"Topic3\", \"Topic3\", \"Topic3\", \"Topic3\", \"Topic3\", \"Topic3\", \"Topic3\", \"Topic3\", \"Topic3\", \"Topic3\", \"Topic3\", \"Topic3\", \"Topic3\", \"Topic3\", \"Topic3\", \"Topic3\", \"Topic3\", \"Topic3\", \"Topic3\", \"Topic3\", \"Topic3\", \"Topic3\", \"Topic3\", \"Topic3\", \"Topic3\", \"Topic3\", \"Topic3\", \"Topic3\", \"Topic3\", \"Topic3\", \"Topic3\", \"Topic3\", \"Topic3\", \"Topic4\", \"Topic4\", \"Topic4\", \"Topic4\", \"Topic4\", \"Topic4\", \"Topic4\", \"Topic4\", \"Topic4\", \"Topic4\", \"Topic4\", \"Topic4\", \"Topic4\", \"Topic4\", \"Topic4\", \"Topic4\", \"Topic4\", \"Topic4\", \"Topic4\", \"Topic4\", \"Topic4\", \"Topic4\", \"Topic4\", \"Topic4\", \"Topic4\", \"Topic4\", \"Topic4\", \"Topic4\", \"Topic4\", \"Topic4\", \"Topic4\", \"Topic4\", \"Topic4\", \"Topic4\", \"Topic4\", \"Topic4\", \"Topic4\", \"Topic5\", \"Topic5\", \"Topic5\", \"Topic5\", \"Topic5\", \"Topic5\", \"Topic5\", \"Topic5\", \"Topic5\", \"Topic5\", \"Topic5\", \"Topic5\", \"Topic5\", \"Topic5\", \"Topic5\", \"Topic5\", \"Topic5\", \"Topic5\", \"Topic5\", \"Topic5\", \"Topic5\", \"Topic5\", \"Topic5\", \"Topic5\", \"Topic5\", \"Topic5\", \"Topic5\", \"Topic5\", \"Topic5\", \"Topic5\", \"Topic5\", \"Topic5\", \"Topic5\", \"Topic5\", \"Topic5\", \"Topic5\", \"Topic5\", \"Topic6\", \"Topic6\", \"Topic6\", \"Topic6\", \"Topic6\", \"Topic6\", \"Topic6\", \"Topic6\", \"Topic6\", \"Topic6\", \"Topic6\", \"Topic6\", \"Topic6\", \"Topic6\", \"Topic6\", \"Topic6\", \"Topic6\", \"Topic6\", \"Topic6\", \"Topic6\", \"Topic6\", \"Topic6\", \"Topic6\", \"Topic6\", \"Topic6\", \"Topic6\", \"Topic6\", \"Topic6\", \"Topic6\", \"Topic6\", \"Topic6\", \"Topic6\", \"Topic6\", \"Topic6\", \"Topic6\", \"Topic6\", \"Topic6\", \"Topic6\"], \"logprob\": [30.0, 29.0, 28.0, 27.0, 26.0, 25.0, 24.0, 23.0, 22.0, 21.0, 20.0, 19.0, 18.0, 17.0, 16.0, 15.0, 14.0, 13.0, 12.0, 11.0, 10.0, 9.0, 8.0, 7.0, 6.0, 5.0, 4.0, 3.0, 2.0, 1.0, -6.6951, -6.7936, -6.8781, -6.882, -6.9102, -6.942, -6.9812, -7.0348, -7.0797, -7.0983, -7.1638, -6.5694, -7.2062, -7.2132, -7.1854, -7.2101, -7.1268, -7.2014, -7.2524, -7.2925, -7.3113, -7.3341, -7.327, -7.3282, -7.3387, -7.155, -7.3511, -7.3582, -7.2396, -7.3666, -6.5819, -6.9161, -6.9258, -7.0656, -6.8694, -7.1708, -7.0202, -7.2877, -5.6562, -6.0272, -6.0201, -6.3683, -5.6745, -6.0017, -6.5519, -6.7167, -5.6406, -6.5229, -6.509, -6.7936, -5.0609, -6.7195, -5.8325, -6.1711, -6.5452, -6.6612, -5.6485, -6.0507, -6.157, -5.1162, -6.1334, -6.5201, -6.0445, -6.346, -6.2762, -6.073, -5.8125, -5.8941, -6.2228, -5.9957, -5.9485, -6.2801, -6.351, -6.4547, -6.2767, -6.4134, -6.2522, -6.4383, -6.5316, -6.8736, -6.8692, -6.9287, -6.9871, -6.9055, -6.9796, -6.9835, -6.9839, -7.0383, -6.9027, -7.1342, -7.0296, -7.1208, -7.1639, -7.1732, -7.1913, -7.1965, -7.0226, -7.2029, -7.0481, -7.2449, -7.2052, -7.2534, -7.258, -7.0276, -7.2745, -7.2908, -7.2986, -7.3069, -6.7617, -6.1573, -6.8535, -6.8854, -6.8881, -6.7746, -7.0989, -6.8746, -6.7202, -6.824, -7.0748, -5.9649, -6.4266, -6.64, -6.6018, -5.9908, -6.7022, -6.5941, -6.8746, -6.895, -6.9714, -5.6423, -6.0294, -5.2658, -5.5194, -5.8329, -6.5249, -6.0156, -6.0067, -6.5514, -6.2804, -6.7083, -6.0102, -6.3254, -6.4794, -6.4554, -6.5114, -6.4175, -6.6783, -6.501, -6.6059, -6.3706, -6.5504, -6.6163, -6.6031, -6.6136, -4.7396, -5.2319, -5.3961, -5.6584, -5.7509, -5.789, -5.8046, -5.8871, -5.9083, -5.7091, -6.2147, -6.3831, -6.6887, -6.643, -6.7855, -6.8606, -6.5705, -6.8797, -6.8858, -6.9165, -6.9262, -6.9338, -6.9565, -6.9285, -6.9665, -7.0005, -7.0303, -7.0306, -7.0404, -6.6033, -6.5072, -5.6172, -3.9566, -5.8403, -4.9723, -6.2849, -5.2434, -4.476, -5.3081, -4.4003, -6.0503, -5.332, -5.4716, -5.9455, -5.5079, -5.4207, -4.9085, -5.438, -6.1346, -5.1564, -5.8043, -5.7096, -5.8125, -5.9382, -5.5151, -6.3525, -6.3901, -6.541, -6.5882, -6.6478, -6.6588, -6.6864, -6.6938, -6.7023, -6.719, -6.738, -6.7354, -6.7406, -6.7619, -6.7938, -6.7144, -6.827, -6.8315, -6.8639, -6.8639, -6.8637, -6.854, -6.8697, -6.8752, -6.8927, -6.8632, -6.9302, -6.949, -6.9711, -6.8534, -6.8703, -6.4709, -6.7781, -6.5757, -6.7969, -6.7168, -5.4994, -5.7397, -5.7678, -6.0714, -6.1442, -6.2403, -6.4078, -6.4343, -6.4357, -6.4592, -6.468, -6.4729, -6.4796, -6.6976, -6.7116, -6.7462, -6.7737, -6.7828, -6.7854, -6.8316, -6.8607, -6.8627, -6.8953, -6.9017, -6.9149, -6.9316, -6.9325, -6.9314, -6.9435, -6.944, -6.721, -6.9213, -6.7034, -6.6866, -6.6782, -6.8585, -6.7322, -5.7335, -5.8786, -6.3416, -6.484, -6.4625, -6.6547, -6.6746, -6.6592, -6.7551, -6.7633, -6.7769, -6.779, -6.7817, -6.8026, -6.813, -6.8319, -6.8631, -6.8704, -6.8646, -6.8879, -6.9, -6.9449, -6.9534, -6.9522, -6.9751, -7.0138, -7.0304, -7.0573, -7.0597, -7.0586, -6.5707, -5.8612, -6.3235, -6.6744, -6.6799, -6.3731, -6.9113, -6.824], \"loglift\": [30.0, 29.0, 28.0, 27.0, 26.0, 25.0, 24.0, 23.0, 22.0, 21.0, 20.0, 19.0, 18.0, 17.0, 16.0, 15.0, 14.0, 13.0, 12.0, 11.0, 10.0, 9.0, 8.0, 7.0, 6.0, 5.0, 4.0, 3.0, 2.0, 1.0, 1.2449, 1.2446, 1.2443, 1.2442, 1.2441, 1.244, 1.2439, 1.2436, 1.2433, 1.2433, 1.243, 1.2429, 1.2428, 1.2428, 1.2427, 1.2427, 1.2427, 1.2426, 1.2426, 1.2423, 1.2422, 1.2421, 1.2421, 1.2421, 1.242, 1.242, 1.242, 1.2419, 1.2419, 1.2418, 1.2392, 1.2388, 1.2348, 1.2375, 1.2259, 1.2368, 1.2253, 1.24, 1.0763, 1.1103, 1.1058, 1.142, 1.0453, 1.076, 1.1509, 1.1568, 0.9583, 1.1208, 1.0986, 1.1587, 0.7462, 1.1375, 0.8793, 0.9601, 1.0611, 1.097, 0.667, 0.8347, 0.8748, 0.3888, 0.8505, 1.0314, 0.7113, 0.8952, 0.8113, 0.6627, 0.4538, 0.4429, 0.7091, 0.4426, -0.0064, 0.5532, 0.5966, 0.883, 0.2826, 0.6158, -0.293, 0.5098, 1.3646, 1.3637, 1.3637, 1.3634, 1.3632, 1.3632, 1.3632, 1.3632, 1.3631, 1.3629, 1.3628, 1.3625, 1.3624, 1.3623, 1.3623, 1.3622, 1.3621, 1.3621, 1.3621, 1.362, 1.362, 1.3618, 1.3618, 1.3618, 1.3617, 1.3617, 1.3615, 1.3615, 1.3614, 1.3614, 1.3604, 1.353, 1.3597, 1.3598, 1.3598, 1.3582, 1.3612, 1.3564, 1.3511, 1.348, 1.357, 1.2807, 1.2952, 1.3084, 1.2709, 1.1429, 1.2774, 1.2295, 1.3071, 1.3132, 1.3353, 0.6948, 0.8641, 0.2392, 0.2877, 0.4334, 0.9977, 0.4227, 0.3087, 0.9165, 0.5248, 1.0711, -0.068, 0.4305, 0.6373, 0.5738, 0.5987, 0.3182, 0.9428, 0.3323, 0.6688, -0.5005, 0.1614, 0.4988, 0.2822, -0.0147, 1.7784, 1.7779, 1.7777, 1.7773, 1.7771, 1.777, 1.777, 1.7767, 1.7767, 1.7766, 1.7758, 1.7752, 1.7737, 1.773, 1.773, 1.7727, 1.7727, 1.7726, 1.7726, 1.7723, 1.7722, 1.7721, 1.7721, 1.772, 1.772, 1.7718, 1.7716, 1.7716, 1.7715, 1.7715, 1.7702, 1.7137, 1.6318, 1.7131, 1.6567, 1.7247, 1.5977, 1.4832, 1.5854, 1.4699, 1.667, 1.5539, 1.5166, 1.5678, 1.4528, 1.3877, 1.0336, 1.2613, 1.4524, 0.3487, 1.0669, 0.8497, 0.9812, 1.0866, 2.2599, 2.2562, 2.2559, 2.2549, 2.2546, 2.2541, 2.2539, 2.2537, 2.2537, 2.2536, 2.2535, 2.2534, 2.2534, 2.2532, 2.2531, 2.2528, 2.2527, 2.2524, 2.2524, 2.2522, 2.2522, 2.252, 2.252, 2.252, 2.2519, 2.2517, 2.2515, 2.2512, 2.2511, 2.2509, 2.2388, 2.2076, 1.8873, 2.1088, 1.7397, 2.0897, 1.7893, 2.3616, 2.3608, 2.3607, 2.3592, 2.3587, 2.3579, 2.357, 2.3569, 2.3569, 2.3567, 2.3566, 2.3566, 2.3565, 2.3545, 2.3544, 2.3539, 2.3537, 2.3537, 2.3536, 2.3532, 2.3527, 2.3527, 2.3523, 2.3523, 2.3521, 2.3519, 2.3519, 2.3518, 2.3517, 2.3517, 2.3452, 2.349, 2.1643, 2.1429, 2.0036, 2.2437, 1.9955, 2.3875, 2.387, 2.3843, 2.3831, 2.383, 2.3816, 2.3815, 2.3815, 2.3807, 2.3804, 2.3804, 2.3803, 2.3803, 2.38, 2.3799, 2.3796, 2.3793, 2.3792, 2.3792, 2.379, 2.3788, 2.3782, 2.3782, 2.3781, 2.3779, 2.3774, 2.3772, 2.3767, 2.3767, 2.3766, 2.3762, 2.362, 2.2976, 2.2339, 1.9577, 0.4601, 2.1545, 0.7721]}, \"token.table\": {\"Topic\": [1, 3, 2, 5, 4, 5, 5, 5, 5, 2, 3, 4, 5, 2, 5, 1, 3, 1, 2, 3, 1, 2, 3, 4, 3, 2, 2, 4, 2, 3, 4, 6, 3, 5, 5, 4, 5, 4, 5, 4, 5, 1, 6, 2, 3, 5, 6, 6, 1, 2, 3, 4, 6, 3, 1, 2, 3, 6, 1, 1, 3, 1, 4, 6, 5, 1, 6, 5, 3, 2, 4, 1, 2, 3, 4, 3, 3, 6, 1, 6, 1, 2, 3, 4, 5, 6, 4, 1, 2, 3, 4, 6, 5, 2, 3, 1, 2, 3, 1, 2, 3, 1, 2, 3, 3, 2, 5, 1, 4, 4, 5, 6, 1, 3, 1, 1, 5, 1, 3, 2, 4, 4, 1, 2, 6, 3, 1, 3, 3, 4, 5, 4, 1, 3, 2, 6, 1, 2, 3, 6, 2, 5, 4, 4, 6, 3, 4, 2, 5, 2, 5, 1, 5, 5, 5, 4, 5, 1, 6, 2, 4, 1, 2, 3, 3, 1, 2, 3, 4, 6, 1, 2, 2, 5, 5, 1, 2, 3, 4, 6, 2, 4, 5, 4, 1, 2, 1, 4, 6, 1, 3, 2, 6, 1, 2, 3, 6, 3, 1, 3, 6, 4, 1, 1, 4, 2, 3, 4, 1, 2, 3, 2, 4, 2, 6, 5, 2, 6, 5, 2, 4, 5, 1, 2, 4, 3, 1, 2, 3, 1, 5, 3, 5, 1, 2, 1, 2, 4, 1, 2, 5, 2, 6, 5, 3, 2, 2, 3, 1, 2, 3, 5, 1, 2, 2, 1, 4, 3, 4, 1, 5, 1, 2, 6, 1, 2, 3, 1, 2, 3, 5, 6, 2, 2, 5, 1, 3, 1, 2, 3, 6, 3, 2, 1, 2, 3, 1, 2, 3, 4, 2, 6, 1, 2, 3, 1, 3, 4, 2, 3, 4, 1, 6, 6, 6, 1, 4, 1, 3, 6, 4, 5, 3, 4, 5, 6, 1, 1, 4, 5, 5, 4, 1, 2, 3, 6, 1, 2, 5, 1, 1, 1, 3, 6, 3, 6, 1, 2, 3, 6, 4, 1, 2, 3, 6, 3, 4, 4, 2, 3, 4, 5, 2, 3, 4, 1, 3, 4, 3, 1, 2, 3, 2, 1, 1, 2, 2, 3, 2, 1, 2, 2, 2, 4, 1, 3, 1, 1, 6, 3, 4, 5, 1, 2, 1, 2, 3, 4, 1, 2, 2, 3, 4, 5, 4, 6, 2, 3, 5, 6, 3, 1, 2, 3, 2, 4, 1, 2, 3, 6, 5, 1, 2, 3, 3, 1, 2, 3, 6, 6, 3, 2, 4, 1, 2, 5, 2, 1, 5, 6, 1, 6, 1, 2, 3, 1, 2, 1, 2, 3, 4, 6, 1, 6, 2, 3, 4, 5, 3, 5, 5, 6, 1, 2, 1, 2, 3, 4, 6, 1, 2, 3, 1, 1, 2, 3, 2, 1, 1, 6, 1, 2, 6, 1, 2, 3, 2, 2, 4, 5, 6, 3, 1, 1, 5, 6, 1, 3, 4, 1, 2, 3, 4, 1, 2, 3, 4, 1, 2, 3, 4, 1], \"Freq\": [0.9985994532991865, 0.9983530326526129, 0.9938474834751878, 0.9940714834185951, 0.8609830960446146, 0.13245893785301766, 0.9963625950386993, 0.9925276824394997, 0.9844838178454113, 0.7440203115604953, 0.17068701265211364, 0.07002544108804662, 0.013129770204008741, 0.9928447266521576, 0.006991864272198293, 0.9901350061969776, 0.0045628341299399884, 0.8417916453925423, 0.1518696267460772, 0.004339132192745063, 0.4520084348545711, 0.39321842520397654, 0.15420330400155943, 0.0009637706500097464, 0.9947817954624453, 0.9908350738448768, 0.9964356034457023, 0.9978634779626948, 0.1750302296570996, 0.8246269582813868, 0.0018044353572896866, 0.9923132497109332, 0.989387756865641, 0.9879855706913367, 0.9870296485356549, 0.015847925045046427, 0.9825713527928784, 0.9929718434850389, 0.9884842573075429, 0.9894568662627901, 0.9967399310846137, 0.027284492521747267, 0.9685994845220279, 0.9892682283355898, 0.9925852715428307, 0.8871471989579434, 0.09857191099532704, 0.9977279322052294, 0.3589839405146626, 0.6378375371644451, 0.0032052137545952016, 0.6245368708614252, 0.3711016189176584, 0.9944900278268446, 0.10862702509186187, 0.028380033582558507, 0.8631444696488484, 0.9870307721635244, 0.994106142453434, 0.9765262754260572, 0.020925563044844084, 0.8788228672284359, 0.06877744178309499, 0.04967259684334638, 0.9957221143927841, 0.9944079855494565, 0.9853745042410392, 0.9943543891003993, 0.999367308899974, 0.9899659497807128, 0.006874763540143839, 0.28504674097966093, 0.2376551067825535, 0.4746132777680907, 0.0020908073910488574, 0.9971974565292835, 0.998302016926541, 0.9894635372197259, 0.9967156212718395, 0.9922604467398422, 0.4236185308145972, 0.32322859205619636, 0.2390451008103625, 0.009003581951426082, 0.0013505372927139125, 0.0036014327805704333, 0.9828088792591061, 0.5219678088475632, 0.34099356855370005, 0.12191948819797098, 0.0019049920030932966, 0.013334944021653075, 0.9971867292115162, 0.9952940418816264, 0.9971389031977339, 0.3811202364826549, 0.22350440986948916, 0.3953314995379404, 0.8612766461756848, 0.06855933501895999, 0.07284429345764498, 0.21409586580288367, 0.041826675769437535, 0.7436641166464403, 0.9922633007903429, 0.9907386190715862, 0.9903814045619725, 0.9926232577632154, 0.9973070348935997, 0.1429392786316691, 0.8186522321631958, 0.03898343962681885, 0.8706196401283884, 0.1266774608652417, 0.997891252302324, 0.9982399812751044, 0.9847139523528028, 0.9938487667725276, 0.006370825428029024, 0.9925749761182846, 0.006165061963467606, 0.9934901535537609, 0.0067536864455863856, 0.9927919075011987, 0.9844253781866056, 0.9983481666678994, 0.9155736538484001, 0.08323396853167273, 0.20942336527528624, 0.5908730663124148, 0.19446455346990865, 0.9839788585627174, 0.9899684098799709, 0.007387823954328142, 0.9973955758015639, 0.9918770061252814, 0.7507444203590766, 0.2494851884729858, 0.9907542978448987, 0.9836013685948081, 0.9902123048447744, 0.0069733260904561575, 0.981495658129193, 0.9460114095118395, 0.048102275059924045, 0.9953040821246759, 0.9937100932809623, 0.9905795066277637, 0.9911795035581407, 0.9142453225966188, 0.08554342199734445, 0.9967031291826638, 0.9879278102246556, 0.9946588747379318, 0.9964993459715011, 0.30212035159920514, 0.7013508162124404, 0.9949007234099115, 0.9970362516477895, 0.9959006385362418, 0.9886571985215885, 0.6922016082717404, 0.2994524348827747, 0.009028716629631396, 0.9992473383289788, 0.45970794830460443, 0.4966959441452048, 0.04227199524640041, 0.9883149317492652, 0.9896592527411296, 0.9948696754006285, 0.9962226047094661, 0.9940653673889767, 0.9934860589918604, 0.985647114203231, 0.3799731984939938, 0.42953492003668864, 0.1883345418622404, 0.0016520573847564949, 0.0016520573847564949, 0.9844388270156452, 0.005859754922712174, 0.011719509845424348, 0.9876378698903651, 0.6880088922871394, 0.31084739109358706, 0.9954454233977394, 0.20594414001671502, 0.7920928462181347, 0.049582560861875485, 0.9475778298047315, 0.9943651499959542, 0.9801637868521267, 0.2259029971644276, 0.45909318778577224, 0.1165950953106723, 0.19675422333675952, 0.995375489679841, 0.06148586315852114, 0.936262007186572, 0.9912698377235827, 0.9851543410090303, 0.9897027965669387, 0.9990528771522903, 0.9957367254731412, 0.9431238760746762, 0.03627399523364139, 0.015545997957274882, 0.05956676443739041, 0.055410943662688755, 0.8851898250114528, 0.989522394101268, 0.981483406013514, 0.9900423555423239, 0.9893811743238844, 0.9860736553932863, 0.9962195001922786, 0.9941504134597065, 0.9954620488094112, 0.9937769631224334, 0.1876124968668725, 0.8004799866319894, 0.671619333351087, 0.3259329117733216, 0.9950311406724122, 0.9955612764371782, 0.14147975235426155, 0.059099137059375084, 0.7987337917721602, 0.9867171543384797, 0.012814508497902334, 0.3050324679173725, 0.6891474275170267, 0.51658660484457, 0.48049321760652147, 0.6623023996970699, 0.338311225791206, 0.9945022050425841, 0.9901140288298893, 0.9909163962114658, 0.9844337485778476, 0.998511823296863, 0.9878941692001013, 0.9871171303343135, 0.9979222257227572, 0.993231140403716, 0.99162094276588, 0.008403567311575254, 0.5311766455607019, 0.45263690808480045, 0.01653468157387399, 0.9989499134201989, 0.7486386514916661, 0.25133829053669937, 0.9956064252286411, 0.9916889523349256, 0.9939321316713419, 0.9976366418023564, 0.9965146151456924, 0.9902394878951488, 0.9824148604413716, 0.49953792564359745, 0.3551136954405166, 0.1444242302030809, 0.11090174454657069, 0.15435447486598727, 0.7341565779340236, 0.478331771271236, 0.3030069786140499, 0.21534458228545686, 0.0019057042680128925, 0.9932661053384687, 0.9923357371158655, 0.9714346317959898, 0.02966212616170961, 0.007200810118277204, 0.9937117963222541, 0.18563025987918513, 0.13756528187475328, 0.6762245181313173, 0.9867466848888508, 0.997266790354504, 0.9923947963035288, 0.556357965647749, 0.3498428205042632, 0.09246946797469512, 0.4468875431999538, 0.5099897194388362, 0.04137847622221794, 0.0010344619055554485, 0.9917484929449009, 0.9887110509899061, 0.559815735403615, 0.34621515643406203, 0.09313390173080031, 0.8995001289371573, 0.10031599950972013, 0.995684698916534, 0.9295086199685579, 0.0619672413312372, 0.00826229884416496, 0.08123089067248397, 0.9138475200654446, 0.9914564206749948, 0.9870402189982452, 0.99254752780796, 0.008202872130644297, 0.2721282672915819, 0.7218154040216428, 0.0038599754225756297, 0.9936858354593182, 0.9924698721158431, 0.16395546282630147, 0.6870514632721204, 0.14053325385111554, 0.989970442467753, 0.9988725817938146, 0.9135206367304913, 0.0769280536194098, 0.004808003351213112, 0.9836972842676442, 0.99171543287731, 0.12997382415875033, 0.1408049761719795, 0.7220768008819463, 0.007220768008819463, 0.8418851437031718, 0.15670124937540789, 0.0015362867585824304, 0.9917578520774795, 0.9929032096132044, 0.10282213345202917, 0.8924961183636132, 0.9962493760390261, 0.9356463290276709, 0.06284191762126147, 0.0536623066516223, 0.12074018996615017, 0.8082884939400609, 0.013415576662905574, 0.9825030358771099, 0.12100732092381641, 0.10712123491616535, 0.7696859101383733, 0.0019837265725215804, 0.9983361804547316, 0.9902972068226517, 0.9958321442410416, 0.98640814389405, 0.0033437564199798302, 0.0033437564199798302, 0.0066875128399596605, 0.9785018588016018, 0.0064801447602755085, 0.0064801447602755085, 0.8624762873875927, 0.12900286349814422, 0.011057388299840933, 0.9921487233712186, 0.6462836564687927, 0.300138511648219, 0.05257900933983398, 0.9987160817768534, 0.9936035496846479, 0.3951983375591136, 0.6045271373621144, 0.9474883619571312, 0.047038429317020694, 0.998357219937823, 0.9977121564246633, 0.9921441063552495, 0.9973008059098638, 0.9907257886150896, 0.006230979802610627, 0.9947116050438876, 0.9921372083399262, 0.9968916173895586, 0.9932816242294303, 0.9905922891826106, 0.9981077145905518, 0.9758784008743357, 0.016264640014572264, 0.8674364747620008, 0.13205069694539645, 0.2778068143159779, 0.2201876231985899, 0.5000522657687603, 0.9890138774230883, 0.34368127128573417, 0.6537415486413422, 0.798453976174116, 0.12389803078563867, 0.05965460741530751, 0.018355263820094617, 0.8474803409209537, 0.1456606835957889, 0.916117404395501, 0.07955081102593987, 0.002566155194385157, 0.9855909748300292, 0.9964255743548296, 0.8281175140349274, 0.16930402509158515, 0.9970067471976742, 0.9914774914639551, 0.9922228923441923, 0.38472968176120553, 0.12000742366863291, 0.4906185849982346, 0.005294445161851452, 0.9914765737947635, 0.5849960343484708, 0.3915699262171216, 0.02358854977211576, 0.9887530029996032, 0.33480869635966126, 0.21395092303958843, 0.45076683022081226, 0.9844049066319489, 0.9884421209135803, 0.999168578022253, 0.9422854456428733, 0.05234919142460407, 0.8160541330267966, 0.18050267998176356, 0.0015168292435442316, 0.995278348060498, 0.9963007617112797, 0.014065804179083373, 0.9846062925358361, 0.35098590826184495, 0.650356241779301, 0.446401076966696, 0.388025551517205, 0.16368039488778854, 0.3080338852354731, 0.6905375009674343, 0.09076211987514857, 0.07021220594115267, 0.833984007154667, 0.001712492827832992, 0.001712492827832992, 0.8939236906733506, 0.10405460949636886, 0.8690918066048777, 0.08690918066048776, 0.036593339225468535, 0.9881038534569287, 0.9919828053877993, 0.9886304655540926, 0.13533866993298752, 0.8526336205778214, 0.6950212974593561, 0.3038959519255484, 0.8048907809152573, 0.18467191077276468, 0.010453127024873473, 0.9919648717407008, 0.9809471360429283, 0.46623235819737285, 0.4189334233077843, 0.11486884187471505, 0.9948461360480612, 0.9783686796582899, 0.018006785515183248, 0.9949354165445162, 0.9941946312124312, 0.9972865731042134, 0.9949786280537467, 0.0045226301275170305, 0.7026050482832634, 0.296371584003122, 0.9843095822015007, 0.5288522771738022, 0.46386619226685194, 0.006722698438650028, 0.9949324723158333, 0.9080229567479987, 0.0816740225646348, 0.00480435426850793, 0.00480435426850793, 0.9934996776021822, 0.9952707691401216, 0.9977523457644026, 0.9813176358001039, 0.9828537410550372, 0.9080658798090012, 0.06891571409264742, 0.020269327674308064, 0.6052704756940858, 0.3397796030556337, 0.05419423776335376, 0.0006089240198129636, 0.5832047502854114, 0.32441936269895877, 0.09188756515750855, 0.9852902885385392, 0.23923595409423035, 0.16345313633767292, 0.5958609788309712, 0.9828087709123581, 0.9965750311155038], \"Term\": [\"abo\\u2026\", \"active\", \"actually\", \"additional\", \"administration\", \"administration\", \"agenda\", \"alabama\", \"allow\", \"also\", \"also\", \"also\", \"also\", \"always\", \"always\", \"america\", \"america\", \"american\", \"american\", \"american\", \"amp\", \"amp\", \"amp\", \"amp\", \"arizona\", \"art\", \"ask\", \"aug\", \"august\", \"august\", \"august\", \"auspol\", \"average\", \"battle\", \"bc\", \"become\", \"become\", \"berlin\", \"biden\", \"bill\", \"blm\", \"blood\", \"blood\", \"body\", \"brazil\", \"bring\", \"bring\", \"bringing\", \"business\", \"business\", \"business\", \"california\", \"california\", \"canada\", \"case\", \"case\", \"case\", \"caused\", \"cdcgov\", \"challenge\", \"challenge\", \"china\", \"china\", \"china\", \"combat\", \"common\", \"component\", \"concerned\", \"confirmed\", \"continue\", \"continue\", \"coronavirus\", \"coronavirus\", \"coronavirus\", \"coronavirus\", \"coronaviruspandemic\", \"coronavirusupdate\", \"corona\\u2026\", \"counted\", \"couple\", \"covid\", \"covid\", \"covid\", \"covid\", \"covid\", \"covid\", \"covidjp\", \"covid\\u2026\", \"covid\\u2026\", \"covid\\u2026\", \"covid\\u2026\", \"covid\\u2026\", \"cross\", \"cure\", \"date\", \"day\", \"day\", \"day\", \"dead\", \"dead\", \"dead\", \"death\", \"death\", \"death\", \"deaths\\u2026\", \"dem\", \"democrat\", \"detail\", \"developed\", \"didnt\", \"didnt\", \"didnt\", \"died\", \"died\", \"different\", \"doesnt\", \"donald\", \"earlyvoting\", \"earlyvoting\", \"education\", \"education\", \"effective\", \"eg\", \"eg\", \"elderly\", \"emergency\", \"end\", \"end\", \"enough\", \"enough\", \"enough\", \"ensure\", \"eod\", \"eod\", \"especially\", \"europe\", \"even\", \"even\", \"exam\", \"except\", \"fact\", \"fact\", \"failure\", \"fake\", \"fake\", \"fatality\", \"fda\", \"fear\", \"fema\", \"flu\", \"flu\", \"football\", \"forward\", \"france\", \"fresh\", \"friday\", \"friday\", \"full\", \"fund\", \"game\", \"germany\", \"get\", \"get\", \"get\", \"gmt\", \"government\", \"government\", \"government\", \"gt\", \"guess\", \"guideline\", \"happy\", \"hard\", \"have\\u2026\", \"he\", \"health\", \"health\", \"health\", \"health\", \"health\", \"healthcare\", \"healthcare\", \"healthcare\", \"hell\", \"help\", \"help\", \"hey\", \"higher\", \"higher\", \"highest\", \"highest\", \"hoax\", \"holiday\", \"hospital\", \"hospital\", \"hospital\", \"hospital\", \"hospitalization\", \"hour\", \"hour\", \"hours\\u2026\", \"hr\", \"h\\u2026\", \"identify\", \"immunity\", \"impact\", \"impact\", \"impact\", \"india\", \"india\", \"india\", \"indiafightscorona\", \"insider\", \"instead\", \"iowa\", \"ireland\", \"issue\", \"japan\", \"joebiden\", \"keeping\", \"killed\", \"killed\", \"know\", \"know\", \"known\", \"lakh\", \"last\", \"last\", \"last\", \"le\", \"le\", \"lie\", \"lie\", \"life\", \"life\", \"like\", \"like\", \"linked\", \"little\", \"london\", \"lord\", \"lost\", \"lowest\", \"maga\", \"maharashtra\", \"making\", \"management\", \"management\", \"many\", \"many\", \"many\", \"mark\", \"mask\", \"mask\", \"matter\", \"maybe\", \"men\", \"milestone\", \"moving\", \"na\", \"ncov\", \"need\", \"need\", \"need\", \"new\", \"new\", \"new\", \"news\", \"news\", \"news\", \"news\", \"new\\u2026\", \"normal\", \"nothing\", \"nothing\", \"nov\", \"nov\", \"number\", \"number\", \"number\", \"nz\", \"odisha\", \"oh\", \"one\", \"one\", \"one\", \"pandemic\", \"pandemic\", \"pandemic\", \"pandemic\", \"parent\", \"pcr\", \"people\", \"people\", \"people\", \"person\", \"person\", \"phone\", \"plan\", \"plan\", \"plan\", \"plasma\", \"plasma\", \"playing\", \"podcast\", \"point\", \"point\", \"positive\", \"positive\", \"positive\", \"positivity\", \"potus\", \"power\", \"power\", \"power\", \"ppl\", \"problem\", \"protest\", \"protest\", \"protest\", \"protester\", \"rally\", \"rate\", \"rate\", \"rate\", \"rate\", \"realdonaldtrump\", \"realdonaldtrump\", \"realdonaldtrump\", \"realdonaldtrumps\", \"recently\", \"record\", \"record\", \"recorded\", \"recovered\", \"recovered\", \"recovery\", \"recovery\", \"recovery\", \"recovery\", \"regarding\", \"report\", \"report\", \"report\", \"report\", \"reported\", \"researcher\", \"robert\", \"safe\", \"safe\", \"safe\", \"safe\", \"safety\", \"safety\", \"safety\", \"said\", \"said\", \"said\", \"sample\", \"say\", \"say\", \"say\", \"saying\", \"scam\", \"school\", \"school\", \"scientist\", \"scientist\", \"seems\", \"selfreporting\", \"september\", \"serious\", \"service\", \"service\", \"sick\", \"single\", \"slow\", \"sooner\", \"speech\", \"spike\", \"sport\", \"sport\", \"spread\", \"spread\", \"state\", \"state\", \"state\", \"status\", \"stay\", \"stay\", \"still\", \"still\", \"still\", \"still\", \"strategy\", \"strategy\", \"student\", \"student\", \"student\", \"st\\u2026\", \"sunday\", \"symptom\", \"symptom\", \"tally\", \"teacher\", \"technology\", \"test\", \"test\", \"test\", \"test\", \"thehill\", \"time\", \"time\", \"time\", \"tip\", \"today\", \"today\", \"today\", \"tonight\", \"tot\", \"total\", \"travel\", \"travel\", \"trump\", \"trump\", \"trump\", \"truth\", \"trying\", \"tweet\", \"tweet\", \"type\", \"type\", \"u\", \"u\", \"u\", \"university\", \"university\", \"update\", \"update\", \"update\", \"update\", \"update\", \"usa\", \"usa\", \"use\", \"use\", \"use\", \"v\", \"violence\", \"vulnerable\", \"wait\", \"wait\", \"want\", \"want\", \"watch\", \"watch\", \"watch\", \"watching\", \"wedding\", \"week\", \"week\", \"week\", \"went\", \"willing\", \"willing\", \"within\", \"wonder\", \"word\", \"worldwide\", \"worldwide\", \"would\", \"would\", \"yeah\", \"year\", \"year\", \"year\", \"yes\", \"yet\", \"yet\", \"yet\", \"yet\", \"york\", \"youtube\", \"y\\u2026\", \"zealand\", \"zero\", \"\\u2018\", \"\\u2018\", \"\\u2018\", \"\\u2019\", \"\\u2019\", \"\\u2019\", \"\\u2019\", \"\\u201c\", \"\\u201c\", \"\\u201c\", \"\\u2022\", \"\\u2026\", \"\\u2026\", \"\\u2026\", \"\\u30b3\\u30ed\\u30ca\\u30a6\\u30a3\\u30eb\\u30b9\", \"\\ud83d\\ude37\"]}, \"R\": 30, \"lambda.step\": 0.01, \"plot.opts\": {\"xlab\": \"PC1\", \"ylab\": \"PC2\"}, \"topic.order\": [1, 4, 2, 3, 5, 6]};\n",
              "\n",
              "function LDAvis_load_lib(url, callback){\n",
              "  var s = document.createElement('script');\n",
              "  s.src = url;\n",
              "  s.async = true;\n",
              "  s.onreadystatechange = s.onload = callback;\n",
              "  s.onerror = function(){console.warn(\"failed to load library \" + url);};\n",
              "  document.getElementsByTagName(\"head\")[0].appendChild(s);\n",
              "}\n",
              "\n",
              "if(typeof(LDAvis) !== \"undefined\"){\n",
              "   // already loaded: just create the visualization\n",
              "   !function(LDAvis){\n",
              "       new LDAvis(\"#\" + \"ldavis_el2811403191966144328406099846\", ldavis_el2811403191966144328406099846_data);\n",
              "   }(LDAvis);\n",
              "}else if(typeof define === \"function\" && define.amd){\n",
              "   // require.js is available: use it to load d3/LDAvis\n",
              "   require.config({paths: {d3: \"https://d3js.org/d3.v5\"}});\n",
              "   require([\"d3\"], function(d3){\n",
              "      window.d3 = d3;\n",
              "      LDAvis_load_lib(\"https://cdn.jsdelivr.net/gh/bmabey/pyLDAvis@3.4.0/pyLDAvis/js/ldavis.v3.0.0.js\", function(){\n",
              "        new LDAvis(\"#\" + \"ldavis_el2811403191966144328406099846\", ldavis_el2811403191966144328406099846_data);\n",
              "      });\n",
              "    });\n",
              "}else{\n",
              "    // require.js not available: dynamically load d3 & LDAvis\n",
              "    LDAvis_load_lib(\"https://d3js.org/d3.v5.js\", function(){\n",
              "         LDAvis_load_lib(\"https://cdn.jsdelivr.net/gh/bmabey/pyLDAvis@3.4.0/pyLDAvis/js/ldavis.v3.0.0.js\", function(){\n",
              "                 new LDAvis(\"#\" + \"ldavis_el2811403191966144328406099846\", ldavis_el2811403191966144328406099846_data);\n",
              "            })\n",
              "         });\n",
              "}\n",
              "</script>"
            ]
          },
          "metadata": {},
          "execution_count": 17
        }
      ]
    },
    {
      "cell_type": "markdown",
      "source": [
        "Полученные результаты модели LDA свидетельствуют о том, что тексты связанные с COVID-19 можно разделить на несколько тем. Некоторые темы имеют общие ключевые слова и могут пересекаться, в то время как другие темы уникальны и имеют мало общего с другими темами."
      ],
      "metadata": {
        "id": "M2QPummNUc_v"
      }
    },
    {
      "cell_type": "markdown",
      "source": [
        "# Генерация текста. GPT-2"
      ],
      "metadata": {
        "id": "TJdX1lCdLWRm"
      }
    },
    {
      "cell_type": "markdown",
      "source": [
        "## Задание 1\n",
        "Загрузите тот же самый датасет из части 1 (topic modeling)"
      ],
      "metadata": {
        "id": "xGA89vreMuYL"
      }
    },
    {
      "cell_type": "code",
      "source": [
        "df = pd.read_csv('./covid19-tweets/covid19_tweets.csv')\n",
        "df = df[[\"text\"]]"
      ],
      "metadata": {
        "colab": {
          "base_uri": "https://localhost:8080/"
        },
        "id": "EcCptmoCLZhP",
        "outputId": "6586df2d-eb68-4b37-d487-5c4d1e1fb82e"
      },
      "execution_count": null,
      "outputs": [
        {
          "output_type": "stream",
          "name": "stderr",
          "text": [
            "/usr/local/lib/python3.9/dist-packages/ipykernel/ipkernel.py:283: DeprecationWarning: `should_run_async` will not call `transform_cell` automatically in the future. Please pass the result to `transformed_cell` argument and any exception that happen during thetransform in `preprocessing_exc_tuple` in IPython 7.17 and above.\n",
            "  and should_run_async(code)\n"
          ]
        }
      ]
    },
    {
      "cell_type": "markdown",
      "source": [
        "## Задание 2\n",
        "Приведите тексты к нижнему регистру, удалите пунктуацию и остальные символы"
      ],
      "metadata": {
        "id": "SlbMAXFLMzjx"
      }
    },
    {
      "cell_type": "code",
      "source": [
        "!pip install emoji"
      ],
      "metadata": {
        "id": "oKR8C46xg2P0"
      },
      "execution_count": null,
      "outputs": []
    },
    {
      "cell_type": "code",
      "source": [
        "import re\n",
        "import emoji\n",
        "\n",
        "#remove @username from tweet\n",
        "def remove_username(tweet):\n",
        "    return re.sub('@[^\\s]+','',tweet)\n",
        "\n",
        "#remove #hashtags from tweet\n",
        "def remove_hashtag(tweet):\n",
        "    return re.sub('#[^\\s]+','',tweet)\n",
        "\n",
        "#remove emojis from tweet\n",
        "def remove_emoji(tweet):\n",
        "    return emoji.replace_emoji(tweet, replace='')\n",
        "\n",
        "#remove https from tweet\n",
        "def remove_https(tweet):\n",
        "    return re.sub('https[^\\s]+','',tweet)\n",
        "\n",
        "#remove youtube from tweet\n",
        "def remove_youtube(tweet):\n",
        "    return re.sub('m.youtube[^\\s]+','',tweet)\n",
        "\n",
        "#remove &amp; from tweet\n",
        "def remove_amp(tweet):\n",
        "    return re.sub('&amp;','',tweet)\n",
        "\n",
        "#remove twitter.com links from tweet\n",
        "def remove_twitter(tweet):\n",
        "    return re.sub('[^\\s]+.com[^\\s]+','',tweet)\n",
        "\n",
        "#remove space from tweet\n",
        "def remove_space(tweet):\n",
        "    return re.sub(' +', ' ', tweet)\n",
        "\n",
        "\n",
        "df['text'] = df['text'].apply(remove_username) #removing usernames\n",
        "df['text'] = df['text'].apply(remove_hashtag) #removing hashtags\n",
        "df['text'] = df['text'].apply(remove_emoji) #removing emojis\n",
        "df['text'] = df['text'].apply(remove_https) #removing https\n",
        "df['text'] = df['text'].apply(remove_youtube) #removing youtube\n",
        "df['text'] = df['text'].apply(remove_amp) #removing amp\n",
        "df['text'] = df['text'].apply(remove_twitter) #removing twitter.com links\n",
        "df['text'] = df['text'].apply(remove_space) #removing space\n",
        "df['text'] = df['text'].replace(' ', np.nan) #replacing ' ' with np.nan\n",
        "df['text'] = df['text'].replace('', np.nan) #replacing '' with np.nan\n",
        "\n",
        "# Переводим текст в нижний регистр\n",
        "df[\"text\"] = df[\"text\"].str.lower()\n",
        "# Удаляем пунктуацию и цифры\n",
        "df[\"text\"] = df[\"text\"].str.translate(str.maketrans('', '', string.punctuation + string.digits))\n",
        "df = df.dropna(axis=0, subset=['text']) #dropping rows if any of the renderedContent has nan values\n",
        "df = df.reset_index(drop=True)"
      ],
      "metadata": {
        "colab": {
          "base_uri": "https://localhost:8080/"
        },
        "id": "M9hIf9KAgcPE",
        "outputId": "4c0e91a3-b7ac-41a4-ad9d-3982a54366f0"
      },
      "execution_count": null,
      "outputs": [
        {
          "output_type": "stream",
          "name": "stderr",
          "text": [
            "/usr/local/lib/python3.9/dist-packages/ipykernel/ipkernel.py:283: DeprecationWarning: `should_run_async` will not call `transform_cell` automatically in the future. Please pass the result to `transformed_cell` argument and any exception that happen during thetransform in `preprocessing_exc_tuple` in IPython 7.17 and above.\n",
            "  and should_run_async(code)\n",
            "<>:6: DeprecationWarning: invalid escape sequence \\s\n",
            "<>:10: DeprecationWarning: invalid escape sequence \\s\n",
            "<>:18: DeprecationWarning: invalid escape sequence \\s\n",
            "<>:22: DeprecationWarning: invalid escape sequence \\s\n",
            "<>:30: DeprecationWarning: invalid escape sequence \\s\n",
            "<>:6: DeprecationWarning: invalid escape sequence \\s\n",
            "<>:10: DeprecationWarning: invalid escape sequence \\s\n",
            "<>:18: DeprecationWarning: invalid escape sequence \\s\n",
            "<>:22: DeprecationWarning: invalid escape sequence \\s\n",
            "<>:30: DeprecationWarning: invalid escape sequence \\s\n",
            "<ipython-input-29-c7215b8ab5a9>:6: DeprecationWarning: invalid escape sequence \\s\n",
            "  return re.sub('@[^\\s]+','',tweet)\n",
            "<ipython-input-29-c7215b8ab5a9>:10: DeprecationWarning: invalid escape sequence \\s\n",
            "  return re.sub('#[^\\s]+','',tweet)\n",
            "<ipython-input-29-c7215b8ab5a9>:18: DeprecationWarning: invalid escape sequence \\s\n",
            "  return re.sub('https[^\\s]+','',tweet)\n",
            "<ipython-input-29-c7215b8ab5a9>:22: DeprecationWarning: invalid escape sequence \\s\n",
            "  return re.sub('m.youtube[^\\s]+','',tweet)\n",
            "<ipython-input-29-c7215b8ab5a9>:30: DeprecationWarning: invalid escape sequence \\s\n",
            "  return re.sub('[^\\s]+.com[^\\s]+','',tweet)\n"
          ]
        }
      ]
    },
    {
      "cell_type": "markdown",
      "source": [
        "## Задание 3 \n",
        "Из исходного количества данных сделайте случайную подвыборку (или не случайную, используя какие-либо эвристики) размером в 5.000 объектов. Мало, зато хватает ОЗУ коллаба, чтобы не вылететь. Если Ваши ресурсы Вам позволяют, то берите подвыборку большим размером. "
      ],
      "metadata": {
        "id": "ed3B7gfmM30K"
      }
    },
    {
      "cell_type": "code",
      "source": [
        "df = df.sample(5000)"
      ],
      "metadata": {
        "colab": {
          "base_uri": "https://localhost:8080/"
        },
        "id": "OIxNFYsqMB0j",
        "outputId": "e3b65123-a17b-401f-a499-2176a2ba6be9"
      },
      "execution_count": null,
      "outputs": [
        {
          "output_type": "stream",
          "name": "stderr",
          "text": [
            "/usr/local/lib/python3.9/dist-packages/ipykernel/ipkernel.py:283: DeprecationWarning: `should_run_async` will not call `transform_cell` automatically in the future. Please pass the result to `transformed_cell` argument and any exception that happen during thetransform in `preprocessing_exc_tuple` in IPython 7.17 and above.\n",
            "  and should_run_async(code)\n"
          ]
        }
      ]
    },
    {
      "cell_type": "code",
      "source": [
        "print(df.shape)\n",
        "df"
      ],
      "metadata": {
        "colab": {
          "base_uri": "https://localhost:8080/",
          "height": 496
        },
        "id": "zFrrleNFMP2E",
        "outputId": "2062d363-bb22-4da8-e533-56871244b954"
      },
      "execution_count": null,
      "outputs": [
        {
          "output_type": "stream",
          "name": "stdout",
          "text": [
            "(5000, 1)\n"
          ]
        },
        {
          "output_type": "stream",
          "name": "stderr",
          "text": [
            "/usr/local/lib/python3.9/dist-packages/ipykernel/ipkernel.py:283: DeprecationWarning: `should_run_async` will not call `transform_cell` automatically in the future. Please pass the result to `transformed_cell` argument and any exception that happen during thetransform in `preprocessing_exc_tuple` in IPython 7.17 and above.\n",
            "  and should_run_async(code)\n"
          ]
        },
        {
          "output_type": "execute_result",
          "data": {
            "text/plain": [
              "                                                     text\n",
              "134848   \\n\\ncover your cough and clean your hands\\n\\n...\n",
              "175013   \\n\\n \\n\\nright out of the devils mouth \\n\\n\\n...\n",
              "93960    deflection from the real shitshows which are ...\n",
              "94882    reports  new positive cases in last  hours to...\n",
              "124682  vaccination coverage in countries is better th...\n",
              "...                                                   ...\n",
              "65072   dr deborah birx coordinator of the white house...\n",
              "128392   tests in in last  hours \\n\\nrtpcr \\nantigen \\...\n",
              "125490  maxicare hosts day free testing for over k mem...\n",
              "175816  any plan to bring kids into a few buildings is...\n",
              "134697  cool interesting challenges in the world in th...\n",
              "\n",
              "[5000 rows x 1 columns]"
            ],
            "text/html": [
              "\n",
              "  <div id=\"df-2cc68ace-25f7-4930-ab9c-e6ac60898e96\">\n",
              "    <div class=\"colab-df-container\">\n",
              "      <div>\n",
              "<style scoped>\n",
              "    .dataframe tbody tr th:only-of-type {\n",
              "        vertical-align: middle;\n",
              "    }\n",
              "\n",
              "    .dataframe tbody tr th {\n",
              "        vertical-align: top;\n",
              "    }\n",
              "\n",
              "    .dataframe thead th {\n",
              "        text-align: right;\n",
              "    }\n",
              "</style>\n",
              "<table border=\"1\" class=\"dataframe\">\n",
              "  <thead>\n",
              "    <tr style=\"text-align: right;\">\n",
              "      <th></th>\n",
              "      <th>text</th>\n",
              "    </tr>\n",
              "  </thead>\n",
              "  <tbody>\n",
              "    <tr>\n",
              "      <th>134848</th>\n",
              "      <td>\\n\\ncover your cough and clean your hands\\n\\n...</td>\n",
              "    </tr>\n",
              "    <tr>\n",
              "      <th>175013</th>\n",
              "      <td>\\n\\n \\n\\nright out of the devils mouth \\n\\n\\n...</td>\n",
              "    </tr>\n",
              "    <tr>\n",
              "      <th>93960</th>\n",
              "      <td>deflection from the real shitshows which are ...</td>\n",
              "    </tr>\n",
              "    <tr>\n",
              "      <th>94882</th>\n",
              "      <td>reports  new positive cases in last  hours to...</td>\n",
              "    </tr>\n",
              "    <tr>\n",
              "      <th>124682</th>\n",
              "      <td>vaccination coverage in countries is better th...</td>\n",
              "    </tr>\n",
              "    <tr>\n",
              "      <th>...</th>\n",
              "      <td>...</td>\n",
              "    </tr>\n",
              "    <tr>\n",
              "      <th>65072</th>\n",
              "      <td>dr deborah birx coordinator of the white house...</td>\n",
              "    </tr>\n",
              "    <tr>\n",
              "      <th>128392</th>\n",
              "      <td>tests in in last  hours \\n\\nrtpcr \\nantigen \\...</td>\n",
              "    </tr>\n",
              "    <tr>\n",
              "      <th>125490</th>\n",
              "      <td>maxicare hosts day free testing for over k mem...</td>\n",
              "    </tr>\n",
              "    <tr>\n",
              "      <th>175816</th>\n",
              "      <td>any plan to bring kids into a few buildings is...</td>\n",
              "    </tr>\n",
              "    <tr>\n",
              "      <th>134697</th>\n",
              "      <td>cool interesting challenges in the world in th...</td>\n",
              "    </tr>\n",
              "  </tbody>\n",
              "</table>\n",
              "<p>5000 rows × 1 columns</p>\n",
              "</div>\n",
              "      <button class=\"colab-df-convert\" onclick=\"convertToInteractive('df-2cc68ace-25f7-4930-ab9c-e6ac60898e96')\"\n",
              "              title=\"Convert this dataframe to an interactive table.\"\n",
              "              style=\"display:none;\">\n",
              "        \n",
              "  <svg xmlns=\"http://www.w3.org/2000/svg\" height=\"24px\"viewBox=\"0 0 24 24\"\n",
              "       width=\"24px\">\n",
              "    <path d=\"M0 0h24v24H0V0z\" fill=\"none\"/>\n",
              "    <path d=\"M18.56 5.44l.94 2.06.94-2.06 2.06-.94-2.06-.94-.94-2.06-.94 2.06-2.06.94zm-11 1L8.5 8.5l.94-2.06 2.06-.94-2.06-.94L8.5 2.5l-.94 2.06-2.06.94zm10 10l.94 2.06.94-2.06 2.06-.94-2.06-.94-.94-2.06-.94 2.06-2.06.94z\"/><path d=\"M17.41 7.96l-1.37-1.37c-.4-.4-.92-.59-1.43-.59-.52 0-1.04.2-1.43.59L10.3 9.45l-7.72 7.72c-.78.78-.78 2.05 0 2.83L4 21.41c.39.39.9.59 1.41.59.51 0 1.02-.2 1.41-.59l7.78-7.78 2.81-2.81c.8-.78.8-2.07 0-2.86zM5.41 20L4 18.59l7.72-7.72 1.47 1.35L5.41 20z\"/>\n",
              "  </svg>\n",
              "      </button>\n",
              "      \n",
              "  <style>\n",
              "    .colab-df-container {\n",
              "      display:flex;\n",
              "      flex-wrap:wrap;\n",
              "      gap: 12px;\n",
              "    }\n",
              "\n",
              "    .colab-df-convert {\n",
              "      background-color: #E8F0FE;\n",
              "      border: none;\n",
              "      border-radius: 50%;\n",
              "      cursor: pointer;\n",
              "      display: none;\n",
              "      fill: #1967D2;\n",
              "      height: 32px;\n",
              "      padding: 0 0 0 0;\n",
              "      width: 32px;\n",
              "    }\n",
              "\n",
              "    .colab-df-convert:hover {\n",
              "      background-color: #E2EBFA;\n",
              "      box-shadow: 0px 1px 2px rgba(60, 64, 67, 0.3), 0px 1px 3px 1px rgba(60, 64, 67, 0.15);\n",
              "      fill: #174EA6;\n",
              "    }\n",
              "\n",
              "    [theme=dark] .colab-df-convert {\n",
              "      background-color: #3B4455;\n",
              "      fill: #D2E3FC;\n",
              "    }\n",
              "\n",
              "    [theme=dark] .colab-df-convert:hover {\n",
              "      background-color: #434B5C;\n",
              "      box-shadow: 0px 1px 3px 1px rgba(0, 0, 0, 0.15);\n",
              "      filter: drop-shadow(0px 1px 2px rgba(0, 0, 0, 0.3));\n",
              "      fill: #FFFFFF;\n",
              "    }\n",
              "  </style>\n",
              "\n",
              "      <script>\n",
              "        const buttonEl =\n",
              "          document.querySelector('#df-2cc68ace-25f7-4930-ab9c-e6ac60898e96 button.colab-df-convert');\n",
              "        buttonEl.style.display =\n",
              "          google.colab.kernel.accessAllowed ? 'block' : 'none';\n",
              "\n",
              "        async function convertToInteractive(key) {\n",
              "          const element = document.querySelector('#df-2cc68ace-25f7-4930-ab9c-e6ac60898e96');\n",
              "          const dataTable =\n",
              "            await google.colab.kernel.invokeFunction('convertToInteractive',\n",
              "                                                     [key], {});\n",
              "          if (!dataTable) return;\n",
              "\n",
              "          const docLinkHtml = 'Like what you see? Visit the ' +\n",
              "            '<a target=\"_blank\" href=https://colab.research.google.com/notebooks/data_table.ipynb>data table notebook</a>'\n",
              "            + ' to learn more about interactive tables.';\n",
              "          element.innerHTML = '';\n",
              "          dataTable['output_type'] = 'display_data';\n",
              "          await google.colab.output.renderOutput(dataTable, element);\n",
              "          const docLink = document.createElement('div');\n",
              "          docLink.innerHTML = docLinkHtml;\n",
              "          element.appendChild(docLink);\n",
              "        }\n",
              "      </script>\n",
              "    </div>\n",
              "  </div>\n",
              "  "
            ]
          },
          "metadata": {},
          "execution_count": 31
        }
      ]
    },
    {
      "cell_type": "markdown",
      "source": [
        "## Задание 4\n",
        "Загрузите предобученную модель GPT-2 и дообучите на наших данных. "
      ],
      "metadata": {
        "id": "45DNRY7eM8Tg"
      }
    },
    {
      "cell_type": "code",
      "source": [
        "corpus = [tweet for tweet in df['text']]\n",
        "len(corpus)"
      ],
      "metadata": {
        "colab": {
          "base_uri": "https://localhost:8080/"
        },
        "id": "s1mvxOGofxWd",
        "outputId": "5c3f4b21-40fc-48e6-c165-2979032c3d16"
      },
      "execution_count": null,
      "outputs": [
        {
          "output_type": "stream",
          "name": "stderr",
          "text": [
            "/usr/local/lib/python3.9/dist-packages/ipykernel/ipkernel.py:283: DeprecationWarning: `should_run_async` will not call `transform_cell` automatically in the future. Please pass the result to `transformed_cell` argument and any exception that happen during thetransform in `preprocessing_exc_tuple` in IPython 7.17 and above.\n",
            "  and should_run_async(code)\n"
          ]
        },
        {
          "output_type": "execute_result",
          "data": {
            "text/plain": [
              "5000"
            ]
          },
          "metadata": {},
          "execution_count": 32
        }
      ]
    },
    {
      "cell_type": "code",
      "source": [
        "import matplotlib.pyplot as plt"
      ],
      "metadata": {
        "colab": {
          "base_uri": "https://localhost:8080/"
        },
        "id": "D6oRJkeFhz7i",
        "outputId": "12100bd2-29ec-4675-ec00-c832ef248650"
      },
      "execution_count": null,
      "outputs": [
        {
          "output_type": "stream",
          "name": "stderr",
          "text": [
            "/usr/local/lib/python3.9/dist-packages/ipykernel/ipkernel.py:283: DeprecationWarning: `should_run_async` will not call `transform_cell` automatically in the future. Please pass the result to `transformed_cell` argument and any exception that happen during thetransform in `preprocessing_exc_tuple` in IPython 7.17 and above.\n",
            "  and should_run_async(code)\n"
          ]
        }
      ]
    },
    {
      "cell_type": "code",
      "source": [
        "#understanding general trend in total character count per tweet\n",
        "word_count = [len(tweet) for tweet in corpus]\n",
        "\n",
        "# matplotlib histogram\n",
        "plt.hist(word_count, color = 'blue', edgecolor = 'black',\n",
        "         bins = int(280/10))\n",
        "\n",
        "# Add labels\n",
        "plt.title('Averate Character Count Per Tweet')\n",
        "plt.xlabel('Characters')\n",
        "plt.ylabel('Frequency')"
      ],
      "metadata": {
        "colab": {
          "base_uri": "https://localhost:8080/",
          "height": 544
        },
        "id": "jIRw0eYYhyag",
        "outputId": "1e5fe8e2-b0aa-4712-d1df-158d0038930c"
      },
      "execution_count": null,
      "outputs": [
        {
          "output_type": "stream",
          "name": "stderr",
          "text": [
            "/usr/local/lib/python3.9/dist-packages/ipykernel/ipkernel.py:283: DeprecationWarning: `should_run_async` will not call `transform_cell` automatically in the future. Please pass the result to `transformed_cell` argument and any exception that happen during thetransform in `preprocessing_exc_tuple` in IPython 7.17 and above.\n",
            "  and should_run_async(code)\n"
          ]
        },
        {
          "output_type": "execute_result",
          "data": {
            "text/plain": [
              "Text(0, 0.5, 'Frequency')"
            ]
          },
          "metadata": {},
          "execution_count": 35
        },
        {
          "output_type": "display_data",
          "data": {
            "text/plain": [
              "<Figure size 640x480 with 1 Axes>"
            ],
            "image/png": "[encoded data removed]"
          },
          "metadata": {}
        }
      ]
    },
    {
      "cell_type": "code",
      "source": [
        "import nltk \n",
        "from nltk.sentiment.vader import SentimentIntensityAnalyzer\n",
        "\n",
        "nltk.download('vader_lexicon')\n",
        "sid = SentimentIntensityAnalyzer()\n",
        "sentiment = [sid.polarity_scores(tweet)['compound'] for tweet in corpus]\n",
        "\n",
        "# matplotlib histogram\n",
        "plt.hist(sentiment, color = 'blue', edgecolor = 'black')\n",
        "# Add labels\n",
        "plt.title('Sentiment Analysis')\n",
        "plt.xlabel('Polarity Score')\n",
        "plt.ylabel('Frequency')"
      ],
      "metadata": {
        "colab": {
          "base_uri": "https://localhost:8080/",
          "height": 561
        },
        "id": "VJLdA5Orh4up",
        "outputId": "274d7ef2-8195-4749-a21f-0f98c40f1ce9"
      },
      "execution_count": null,
      "outputs": [
        {
          "output_type": "stream",
          "name": "stderr",
          "text": [
            "/usr/local/lib/python3.9/dist-packages/ipykernel/ipkernel.py:283: DeprecationWarning: `should_run_async` will not call `transform_cell` automatically in the future. Please pass the result to `transformed_cell` argument and any exception that happen during thetransform in `preprocessing_exc_tuple` in IPython 7.17 and above.\n",
            "  and should_run_async(code)\n",
            "[nltk_data] Downloading package vader_lexicon to /root/nltk_data...\n"
          ]
        },
        {
          "output_type": "execute_result",
          "data": {
            "text/plain": [
              "Text(0, 0.5, 'Frequency')"
            ]
          },
          "metadata": {},
          "execution_count": 36
        },
        {
          "output_type": "display_data",
          "data": {
            "text/plain": [
              "<Figure size 640x480 with 1 Axes>"
            ],
            "image/png": "[encoded data removed]"
          },
          "metadata": {}
        }
      ]
    },
    {
      "cell_type": "code",
      "source": [
        "!pip install gpt_2_simple"
      ],
      "metadata": {
        "colab": {
          "base_uri": "https://localhost:8080/"
        },
        "id": "Y01yu_1Fh_LG",
        "outputId": "ace8c7fa-e9aa-4be6-8c23-1abd7b0d63bd"
      },
      "execution_count": null,
      "outputs": [
        {
          "output_type": "stream",
          "name": "stderr",
          "text": [
            "/usr/local/lib/python3.9/dist-packages/ipykernel/ipkernel.py:283: DeprecationWarning: `should_run_async` will not call `transform_cell` automatically in the future. Please pass the result to `transformed_cell` argument and any exception that happen during thetransform in `preprocessing_exc_tuple` in IPython 7.17 and above.\n",
            "  and should_run_async(code)\n"
          ]
        },
        {
          "output_type": "stream",
          "name": "stdout",
          "text": [
            "Looking in indexes: https://pypi.org/simple, https://us-python.pkg.dev/colab-wheels/public/simple/\n",
            "Collecting gpt_2_simple\n",
            "  Downloading gpt_2_simple-0.8.1.tar.gz (26 kB)\n",
            "  Preparing metadata (setup.py) ... \u001b[?25l\u001b[?25hdone\n",
            "Requirement already satisfied: tensorflow>=2.5.1 in /usr/local/lib/python3.9/dist-packages (from gpt_2_simple) (2.7.0)\n",
            "Requirement already satisfied: regex in /usr/local/lib/python3.9/dist-packages (from gpt_2_simple) (2022.10.31)\n",
            "Requirement already satisfied: requests in /usr/local/lib/python3.9/dist-packages (from gpt_2_simple) (2.27.1)\n",
            "Requirement already satisfied: tqdm in /usr/local/lib/python3.9/dist-packages (from gpt_2_simple) (4.65.0)\n",
            "Requirement already satisfied: numpy in /usr/local/lib/python3.9/dist-packages (from gpt_2_simple) (1.22.4)\n",
            "Collecting toposort\n",
            "  Downloading toposort-1.10-py3-none-any.whl (8.5 kB)\n",
            "Requirement already satisfied: keras-preprocessing>=1.1.1 in /usr/local/lib/python3.9/dist-packages (from tensorflow>=2.5.1->gpt_2_simple) (1.1.2)\n",
            "Requirement already satisfied: typing-extensions>=3.6.6 in /usr/local/lib/python3.9/dist-packages (from tensorflow>=2.5.1->gpt_2_simple) (4.5.0)\n",
            "Requirement already satisfied: absl-py>=0.4.0 in /usr/local/lib/python3.9/dist-packages (from tensorflow>=2.5.1->gpt_2_simple) (1.4.0)\n",
            "Requirement already satisfied: astunparse>=1.6.0 in /usr/local/lib/python3.9/dist-packages (from tensorflow>=2.5.1->gpt_2_simple) (1.6.3)\n",
            "Requirement already satisfied: wheel<1.0,>=0.32.0 in /usr/local/lib/python3.9/dist-packages (from tensorflow>=2.5.1->gpt_2_simple) (0.40.0)\n",
            "Requirement already satisfied: google-pasta>=0.1.1 in /usr/local/lib/python3.9/dist-packages (from tensorflow>=2.5.1->gpt_2_simple) (0.2.0)\n",
            "Requirement already satisfied: tensorflow-estimator<2.8,~=2.7.0rc0 in /usr/local/lib/python3.9/dist-packages (from tensorflow>=2.5.1->gpt_2_simple) (2.7.0)\n",
            "Requirement already satisfied: h5py>=2.9.0 in /usr/local/lib/python3.9/dist-packages (from tensorflow>=2.5.1->gpt_2_simple) (3.8.0)\n",
            "Requirement already satisfied: wrapt>=1.11.0 in /usr/local/lib/python3.9/dist-packages (from tensorflow>=2.5.1->gpt_2_simple) (1.14.1)\n",
            "Requirement already satisfied: gast<0.5.0,>=0.2.1 in /usr/local/lib/python3.9/dist-packages (from tensorflow>=2.5.1->gpt_2_simple) (0.4.0)\n",
            "Requirement already satisfied: tensorflow-io-gcs-filesystem>=0.21.0 in /usr/local/lib/python3.9/dist-packages (from tensorflow>=2.5.1->gpt_2_simple) (0.32.0)\n",
            "Requirement already satisfied: tensorboard~=2.6 in /usr/local/lib/python3.9/dist-packages (from tensorflow>=2.5.1->gpt_2_simple) (2.12.2)\n",
            "Requirement already satisfied: six>=1.12.0 in /usr/local/lib/python3.9/dist-packages (from tensorflow>=2.5.1->gpt_2_simple) (1.16.0)\n",
            "Requirement already satisfied: opt-einsum>=2.3.2 in /usr/local/lib/python3.9/dist-packages (from tensorflow>=2.5.1->gpt_2_simple) (3.3.0)\n",
            "Requirement already satisfied: keras<2.8,>=2.7.0rc0 in /usr/local/lib/python3.9/dist-packages (from tensorflow>=2.5.1->gpt_2_simple) (2.7.0)\n",
            "Requirement already satisfied: flatbuffers<3.0,>=1.12 in /usr/local/lib/python3.9/dist-packages (from tensorflow>=2.5.1->gpt_2_simple) (2.0.7)\n",
            "Requirement already satisfied: protobuf>=3.9.2 in /usr/local/lib/python3.9/dist-packages (from tensorflow>=2.5.1->gpt_2_simple) (3.20.3)\n",
            "Requirement already satisfied: libclang>=9.0.1 in /usr/local/lib/python3.9/dist-packages (from tensorflow>=2.5.1->gpt_2_simple) (16.0.0)\n",
            "Requirement already satisfied: grpcio<2.0,>=1.24.3 in /usr/local/lib/python3.9/dist-packages (from tensorflow>=2.5.1->gpt_2_simple) (1.53.0)\n",
            "Requirement already satisfied: termcolor>=1.1.0 in /usr/local/lib/python3.9/dist-packages (from tensorflow>=2.5.1->gpt_2_simple) (2.2.0)\n",
            "Requirement already satisfied: certifi>=2017.4.17 in /usr/local/lib/python3.9/dist-packages (from requests->gpt_2_simple) (2022.12.7)\n",
            "Requirement already satisfied: charset-normalizer~=2.0.0 in /usr/local/lib/python3.9/dist-packages (from requests->gpt_2_simple) (2.0.12)\n",
            "Requirement already satisfied: urllib3<1.27,>=1.21.1 in /usr/local/lib/python3.9/dist-packages (from requests->gpt_2_simple) (1.26.15)\n",
            "Requirement already satisfied: idna<4,>=2.5 in /usr/local/lib/python3.9/dist-packages (from requests->gpt_2_simple) (3.4)\n",
            "Requirement already satisfied: google-auth-oauthlib<1.1,>=0.5 in /usr/local/lib/python3.9/dist-packages (from tensorboard~=2.6->tensorflow>=2.5.1->gpt_2_simple) (1.0.0)\n",
            "Requirement already satisfied: setuptools>=41.0.0 in /usr/local/lib/python3.9/dist-packages (from tensorboard~=2.6->tensorflow>=2.5.1->gpt_2_simple) (67.6.1)\n",
            "Requirement already satisfied: google-auth<3,>=1.6.3 in /usr/local/lib/python3.9/dist-packages (from tensorboard~=2.6->tensorflow>=2.5.1->gpt_2_simple) (2.17.3)\n",
            "Requirement already satisfied: markdown>=2.6.8 in /usr/local/lib/python3.9/dist-packages (from tensorboard~=2.6->tensorflow>=2.5.1->gpt_2_simple) (3.4.3)\n",
            "Requirement already satisfied: tensorboard-plugin-wit>=1.6.0 in /usr/local/lib/python3.9/dist-packages (from tensorboard~=2.6->tensorflow>=2.5.1->gpt_2_simple) (1.8.1)\n",
            "Requirement already satisfied: werkzeug>=1.0.1 in /usr/local/lib/python3.9/dist-packages (from tensorboard~=2.6->tensorflow>=2.5.1->gpt_2_simple) (2.2.3)\n",
            "Requirement already satisfied: tensorboard-data-server<0.8.0,>=0.7.0 in /usr/local/lib/python3.9/dist-packages (from tensorboard~=2.6->tensorflow>=2.5.1->gpt_2_simple) (0.7.0)\n",
            "Requirement already satisfied: pyasn1-modules>=0.2.1 in /usr/local/lib/python3.9/dist-packages (from google-auth<3,>=1.6.3->tensorboard~=2.6->tensorflow>=2.5.1->gpt_2_simple) (0.2.8)\n",
            "Requirement already satisfied: cachetools<6.0,>=2.0.0 in /usr/local/lib/python3.9/dist-packages (from google-auth<3,>=1.6.3->tensorboard~=2.6->tensorflow>=2.5.1->gpt_2_simple) (5.3.0)\n",
            "Requirement already satisfied: rsa<5,>=3.1.4 in /usr/local/lib/python3.9/dist-packages (from google-auth<3,>=1.6.3->tensorboard~=2.6->tensorflow>=2.5.1->gpt_2_simple) (4.9)\n",
            "Requirement already satisfied: requests-oauthlib>=0.7.0 in /usr/local/lib/python3.9/dist-packages (from google-auth-oauthlib<1.1,>=0.5->tensorboard~=2.6->tensorflow>=2.5.1->gpt_2_simple) (1.3.1)\n",
            "Requirement already satisfied: importlib-metadata>=4.4 in /usr/local/lib/python3.9/dist-packages (from markdown>=2.6.8->tensorboard~=2.6->tensorflow>=2.5.1->gpt_2_simple) (6.4.1)\n",
            "Requirement already satisfied: MarkupSafe>=2.1.1 in /usr/local/lib/python3.9/dist-packages (from werkzeug>=1.0.1->tensorboard~=2.6->tensorflow>=2.5.1->gpt_2_simple) (2.1.2)\n",
            "Requirement already satisfied: zipp>=0.5 in /usr/local/lib/python3.9/dist-packages (from importlib-metadata>=4.4->markdown>=2.6.8->tensorboard~=2.6->tensorflow>=2.5.1->gpt_2_simple) (3.15.0)\n",
            "Requirement already satisfied: pyasn1<0.5.0,>=0.4.6 in /usr/local/lib/python3.9/dist-packages (from pyasn1-modules>=0.2.1->google-auth<3,>=1.6.3->tensorboard~=2.6->tensorflow>=2.5.1->gpt_2_simple) (0.4.8)\n",
            "Requirement already satisfied: oauthlib>=3.0.0 in /usr/local/lib/python3.9/dist-packages (from requests-oauthlib>=0.7.0->google-auth-oauthlib<1.1,>=0.5->tensorboard~=2.6->tensorflow>=2.5.1->gpt_2_simple) (3.2.2)\n",
            "Building wheels for collected packages: gpt_2_simple\n",
            "  Building wheel for gpt_2_simple (setup.py) ... \u001b[?25l\u001b[?25hdone\n",
            "  Created wheel for gpt_2_simple: filename=gpt_2_simple-0.8.1-py3-none-any.whl size=24576 sha256=03f5aef2cca715a4716f424498151ea767eac54b2afa98382f6b9e6669266f3c\n",
            "  Stored in directory: /root/.cache/pip/wheels/4e/28/f0/2f12e470be10d6804b193e4193d274c88995010fae512a67cf\n",
            "Successfully built gpt_2_simple\n",
            "Installing collected packages: toposort, gpt_2_simple\n",
            "Successfully installed gpt_2_simple-0.8.1 toposort-1.10\n"
          ]
        }
      ]
    },
    {
      "cell_type": "code",
      "source": [
        "import gpt_2_simple as gpt2\n",
        "\n",
        "#downloading the gpt-2 model that was trained using 124 million parameters\n",
        "gpt2.download_gpt2(model_name=\"124M\")\n",
        "\n",
        "#saving the corpus as text file\n",
        "file = open('tweet.txt', 'w')\n",
        "file.write('\\n'.join(corpus))\n",
        "file.close()\n",
        "\n",
        "#starting the gpt2 tensorflow session\n",
        "sess = gpt2.start_tf_sess()\n",
        "\n",
        "#finetuning\n",
        "gpt2.finetune(sess,\n",
        "              dataset='tweet.txt',\n",
        "              model_name='124M',\n",
        "              steps=1000,\n",
        "              restore_from='fresh',\n",
        "              run_name='run1',\n",
        "              print_every=10,\n",
        "              sample_every=500,\n",
        "              save_every=100\n",
        "              )"
      ],
      "metadata": {
        "colab": {
          "base_uri": "https://localhost:8080/"
        },
        "id": "NnfPgIuPh-xE",
        "outputId": "85e7fb68-72d1-4b2e-943b-b5163c5ffd6c"
      },
      "execution_count": null,
      "outputs": [
        {
          "output_type": "stream",
          "name": "stderr",
          "text": [
            "/usr/local/lib/python3.9/dist-packages/ipykernel/ipkernel.py:283: DeprecationWarning: `should_run_async` will not call `transform_cell` automatically in the future. Please pass the result to `transformed_cell` argument and any exception that happen during thetransform in `preprocessing_exc_tuple` in IPython 7.17 and above.\n",
            "  and should_run_async(code)\n",
            "Fetching checkpoint: 1.05Mit [00:00, 332Mit/s]                                                      \n",
            "Fetching encoder.json: 1.05Mit [00:00, 2.87Mit/s]\n",
            "Fetching hparams.json: 1.05Mit [00:00, 469Mit/s]                                                    \n",
            "Fetching model.ckpt.data-00000-of-00001: 498Mit [00:13, 38.1Mit/s]                                  \n",
            "Fetching model.ckpt.index: 1.05Mit [00:00, 344Mit/s]                                                \n",
            "Fetching model.ckpt.meta: 1.05Mit [00:00, 4.36Mit/s]\n",
            "Fetching vocab.bpe: 1.05Mit [00:00, 5.18Mit/s]\n"
          ]
        },
        {
          "output_type": "stream",
          "name": "stdout",
          "text": [
            "Loading checkpoint models/124M/model.ckpt\n",
            "Loading dataset...\n"
          ]
        },
        {
          "output_type": "stream",
          "name": "stderr",
          "text": [
            "100%|██████████| 1/1 [00:00<00:00,  1.36it/s]\n"
          ]
        },
        {
          "output_type": "stream",
          "name": "stdout",
          "text": [
            "dataset has 101681 tokens\n",
            "Training...\n",
            "[10 | 25.82] loss=4.56 avg=4.56\n",
            "[20 | 48.12] loss=4.23 avg=4.40\n",
            "[30 | 70.72] loss=4.26 avg=4.35\n",
            "[40 | 92.93] loss=4.01 avg=4.27\n",
            "[50 | 115.03] loss=3.87 avg=4.18\n",
            "[60 | 137.34] loss=3.92 avg=4.14\n",
            "[70 | 159.70] loss=3.64 avg=4.07\n",
            "[80 | 181.95] loss=3.57 avg=4.00\n",
            "[90 | 204.20] loss=3.48 avg=3.94\n",
            "[100 | 226.48] loss=3.24 avg=3.87\n",
            "Saving checkpoint/run1/model-100\n",
            "[110 | 251.78] loss=3.17 avg=3.80\n",
            "[120 | 274.15] loss=2.73 avg=3.71\n",
            "[130 | 296.47] loss=2.31 avg=3.59\n",
            "[140 | 318.77] loss=2.82 avg=3.53\n",
            "[150 | 341.06] loss=2.53 avg=3.46\n",
            "[160 | 363.34] loss=2.15 avg=3.37\n",
            "[170 | 385.64] loss=1.77 avg=3.27\n",
            "[180 | 407.97] loss=2.56 avg=3.23\n",
            "[190 | 430.30] loss=1.73 avg=3.14\n",
            "[200 | 452.62] loss=1.68 avg=3.06\n",
            "Saving checkpoint/run1/model-200\n"
          ]
        },
        {
          "output_type": "stream",
          "name": "stderr",
          "text": [
            "WARNING:tensorflow:From /usr/local/lib/python3.9/dist-packages/tensorflow/python/training/saver.py:1056: remove_checkpoint (from tensorflow.python.training.checkpoint_management) is deprecated and will be removed in a future version.\n",
            "Instructions for updating:\n",
            "Use standard file APIs to delete files with this prefix.\n"
          ]
        },
        {
          "output_type": "stream",
          "name": "stdout",
          "text": [
            "[210 | 477.64] loss=1.49 avg=2.98\n",
            "[220 | 500.02] loss=1.33 avg=2.90\n",
            "[230 | 522.38] loss=1.48 avg=2.83\n",
            "[240 | 544.74] loss=1.34 avg=2.76\n",
            "[250 | 567.11] loss=1.13 avg=2.69\n",
            "[260 | 589.45] loss=0.80 avg=2.60\n",
            "[270 | 611.72] loss=0.94 avg=2.53\n",
            "[280 | 634.02] loss=0.64 avg=2.46\n",
            "[290 | 656.41] loss=0.80 avg=2.39\n",
            "[300 | 679.25] loss=0.59 avg=2.32\n",
            "Saving checkpoint/run1/model-300\n",
            "[310 | 705.71] loss=0.69 avg=2.26\n",
            "[320 | 728.13] loss=0.63 avg=2.20\n",
            "[330 | 750.45] loss=0.45 avg=2.14\n",
            "[340 | 772.78] loss=0.38 avg=2.08\n",
            "[350 | 795.13] loss=0.36 avg=2.02\n",
            "[360 | 817.41] loss=0.37 avg=1.97\n",
            "[370 | 839.72] loss=0.22 avg=1.91\n",
            "[380 | 861.99] loss=0.26 avg=1.86\n",
            "[390 | 884.28] loss=0.32 avg=1.81\n",
            "[400 | 906.56] loss=0.24 avg=1.76\n",
            "Saving checkpoint/run1/model-400\n",
            "[410 | 931.42] loss=0.20 avg=1.72\n",
            "[420 | 953.82] loss=0.13 avg=1.67\n",
            "[430 | 976.16] loss=0.16 avg=1.63\n",
            "[440 | 998.44] loss=0.10 avg=1.58\n",
            "[450 | 1020.73] loss=0.14 avg=1.54\n",
            "[460 | 1043.04] loss=0.09 avg=1.51\n",
            "[470 | 1065.39] loss=0.09 avg=1.47\n",
            "[480 | 1087.77] loss=0.12 avg=1.43\n",
            "[490 | 1110.13] loss=0.09 avg=1.40\n",
            "[500 | 1132.50] loss=0.09 avg=1.37\n",
            "Saving checkpoint/run1/model-500\n",
            "======== SAMPLE 1 ========\n",
            " mimic the efficacy of… \n",
            " i will wear a mask if i ever get to go to the doctor \n",
            "fukushima orang allth \n",
            "koryu bush \n",
            "keynaville east \n",
            "chanmahalan… \n",
            "just in  \n",
            "\n",
            " new cases reported death toll  \n",
            "i have taken part in the project which will cover three levels – Low – see below for more details… \n",
            "demographic change has radically different impacts on every population as \n",
            "read more about what happened to which  men and women in the us and \n",
            "if youve got sick using a product or service and you couldnt get covid tested you need to get rid of the test… \n",
            " youre allowed to start using  but not until bil’ time in case you didnt know about this serious… \n",
            " im with relative she has had multiple tests done at no significant… \n",
            " tell me again how science says robert trump is the tiniest thing ever and we keep using different tests just… \n",
            "theres a real sense of this generation is starting to need toyang right about now  onbit… \n",
            " this footage is from show now you can still attend these events though\n",
            "\n",
            " showcasedire… \n",
            " these people dont wish on mor… \n",
            "these are the people who have got the leftfield blame too >> \n",
            "indias passenger vehicle sales rebounded sharply in july by around pc from the month before then reb… \n",
            " will the center right driver of the … \n",
            " passenger vehicles more common trips \n",
            " \n",
            "used to travel  \n",
            " \n",
            "always remember that your headlights are the only way out of a burning wildfire make the most of… \n",
            "always remember that your headlights are the only way out of a burning wildfire learn about… \n",
            "always remember that your headlights are the only way out of a burning wildfire practice keep fire fighters out of the picture too f… \n",
            "the best information about is found at the top of the pages of everye… \n",
            " \n",
            " not disappointed no more beat in the \n",
            "<|endoftext|>covid\n",
            "\n",
            "my driver has a problem getting his qr codes he has to give them away \n",
            "\n",
            "hey what are you waiting for\n",
            " give yourself a chance to become even better so you can spend less time in hospitals and more time in a care… \n",
            "my coworker is pregnant and on ventilators and haslots of questions about her ventilator setup \n",
            " is this unsafe during when my brother is out with a very sick mom \n",
            " \n",
            "powerful images of torish kushner abusing a child \n",
            "\n",
            "\n",
            "\n",
            "powerful images of his into oblivion\n",
            "\n",
            "no… \n",
            " report \n",
            "no locally transmitted covid cases \n",
            "last week  fatal cases \n",
            "now hes up and about it’s a’s looking f… \n",
            " \n",
            "“though we have significantly less deaths of local residents who work or schooled than do everyone in… \n",
            "were here to help\n",
            "\n",
            " we are here\n",
            "\n",
            " of… \n",
            " just spoke to someone who managed to recover from while their infection was in the… \n",
            "“they need to apologize to all the immigrants and refugees they have devastated their homelands with their ste… \n",
            "absolutely do not plan on running our own immigration policy putin says they need t… \n",
            "florida has a pretty amazing website that makes it easy for people to find information about accepting m… \n",
            " \n",
            " \n",
            " \n",
            "\n",
            " \n",
            " \n",
            " \n",
            "last updated  days ago\n",
            "  mask wearing and wearing not only help protect larissa isolatinum isolates from entering the china… \n",
            "i found this piece on…  paul mirage article b adding depth to the theory that the coronavirus was the cause for the separation of b… \n",
            " \n",
            "idiot employees start smearing mor… \n",
            " “stirs up noice industry helpful note” i’m not the only one feeling the pinch here \n",
            " should be doing web content doing stats and blog… \n",
            " \n",
            " today will spend  s getting tested for \n",
            "he had a dream come true \n",
            "now he has a nightmare \n",
            "a thousand other doctors have died of that they couldnt get a poll number close to  and they wouldnt let t… \n",
            " due to aka my name is mischievous little jackson and i bring you this truth \n",
            "\n",
            "\n",
            "a team of  including one from history and one from metallurg society theyre cl… \n",
            "well off to eat at a place family and friends safe\n",
            "\n",
            "play at home if you’re ready… \n",
            "bi \n",
            " \n",
            " \n",
            "    \n",
            "this is the onetime stepmother of one of pandemic’s \n",
            "   \n",
            "   \n",
            "   \n",
            "   \n",
            "   \n",
            "   \n",
            "   \n",
            "   by the man who brought you to your mobile from  a… \n",
            "\n",
            "[510 | 1171.52] loss=0.06 avg=1.33\n",
            "[520 | 1193.95] loss=0.08 avg=1.30\n",
            "[530 | 1216.31] loss=0.06 avg=1.27\n",
            "[540 | 1238.60] loss=0.08 avg=1.24\n",
            "[550 | 1260.97] loss=0.09 avg=1.22\n",
            "[560 | 1283.41] loss=0.08 avg=1.19\n",
            "[570 | 1305.77] loss=0.07 avg=1.16\n",
            "[580 | 1328.10] loss=0.06 avg=1.14\n",
            "[590 | 1350.41] loss=0.06 avg=1.12\n",
            "[600 | 1372.72] loss=0.06 avg=1.09\n",
            "Saving checkpoint/run1/model-600\n",
            "[610 | 1398.37] loss=0.06 avg=1.07\n",
            "[620 | 1420.81] loss=0.06 avg=1.05\n",
            "[630 | 1443.15] loss=0.06 avg=1.03\n",
            "[640 | 1465.45] loss=0.04 avg=1.01\n",
            "[650 | 1487.76] loss=0.06 avg=0.99\n",
            "[660 | 1510.10] loss=0.05 avg=0.97\n",
            "[670 | 1532.44] loss=0.05 avg=0.95\n",
            "[680 | 1554.83] loss=0.07 avg=0.93\n",
            "[690 | 1577.20] loss=0.05 avg=0.91\n",
            "[700 | 1599.59] loss=0.06 avg=0.90\n",
            "Saving checkpoint/run1/model-700\n",
            "[710 | 1625.35] loss=0.05 avg=0.88\n",
            "[720 | 1647.76] loss=0.04 avg=0.86\n",
            "[730 | 1670.13] loss=0.05 avg=0.85\n",
            "[740 | 1692.46] loss=0.05 avg=0.83\n",
            "[750 | 1714.80] loss=0.06 avg=0.82\n",
            "[760 | 1737.14] loss=0.04 avg=0.80\n",
            "[770 | 1759.46] loss=0.05 avg=0.79\n",
            "[780 | 1781.80] loss=0.04 avg=0.78\n",
            "[790 | 1804.11] loss=0.05 avg=0.76\n",
            "[800 | 1826.45] loss=0.05 avg=0.75\n",
            "Saving checkpoint/run1/model-800\n",
            "[810 | 1852.25] loss=0.04 avg=0.74\n",
            "[820 | 1874.66] loss=0.05 avg=0.72\n",
            "[830 | 1897.02] loss=0.06 avg=0.71\n",
            "[840 | 1919.34] loss=0.05 avg=0.70\n",
            "[850 | 1941.65] loss=0.05 avg=0.69\n",
            "[860 | 1963.91] loss=0.04 avg=0.68\n",
            "[870 | 1986.20] loss=0.04 avg=0.67\n",
            "[880 | 2008.52] loss=0.06 avg=0.66\n",
            "[890 | 2030.82] loss=0.04 avg=0.65\n",
            "[900 | 2053.15] loss=0.04 avg=0.64\n",
            "Saving checkpoint/run1/model-900\n",
            "[910 | 2078.86] loss=0.03 avg=0.63\n",
            "[920 | 2101.29] loss=0.03 avg=0.62\n",
            "[930 | 2123.64] loss=0.04 avg=0.61\n",
            "[940 | 2145.92] loss=0.05 avg=0.60\n",
            "[950 | 2168.21] loss=0.05 avg=0.59\n",
            "[960 | 2190.53] loss=0.06 avg=0.58\n",
            "[970 | 2212.85] loss=0.04 avg=0.57\n",
            "[980 | 2235.21] loss=0.04 avg=0.56\n",
            "[990 | 2257.55] loss=0.04 avg=0.55\n",
            "[1000 | 2279.89] loss=0.04 avg=0.55\n",
            "Saving checkpoint/run1/model-1000\n"
          ]
        }
      ]
    },
    {
      "cell_type": "markdown",
      "source": [
        "## Задание 5\n",
        "После дообучения модели выведите примеры сгенерированных постов, которые начинались бы с “covid” или “covid19”"
      ],
      "metadata": {
        "id": "qeN0Cri0NAMR"
      }
    },
    {
      "cell_type": "code",
      "source": [
        "gpt2_generated_tweet = gpt2.generate(sess,\n",
        "              length=50,\n",
        "              temperature=0.7,\n",
        "              nsamples=10,\n",
        "              batch_size=1,\n",
        "              truncate = '<|endoftext|>',\n",
        "              return_as_list=True,\n",
        "              prefix='covid'\n",
        "              )\n",
        "\n",
        "for i, post in enumerate(gpt2_generated_tweet):\n",
        "  print(i, post)\n",
        "  print()"
      ],
      "metadata": {
        "colab": {
          "base_uri": "https://localhost:8080/"
        },
        "id": "KKGjPNE5lQOp",
        "outputId": "50018e26-f846-4cee-b35e-80ce3287a92a"
      },
      "execution_count": null,
      "outputs": [
        {
          "output_type": "stream",
          "name": "stderr",
          "text": [
            "/usr/local/lib/python3.9/dist-packages/ipykernel/ipkernel.py:283: DeprecationWarning: `should_run_async` will not call `transform_cell` automatically in the future. Please pass the result to `transformed_cell` argument and any exception that happen during thetransform in `preprocessing_exc_tuple` in IPython 7.17 and above.\n",
            "  and should_run_async(code)\n"
          ]
        },
        {
          "output_type": "stream",
          "name": "stdout",
          "text": [
            "0 covid data is trending and growing increasingly common these days \n",
            "help slow the spread of and identify at risk cases sooner by selfreporting your symptoms daily even if y… \n",
            "we’ve recently been reminded how grateful we are for healthcare workers volunteers around\n",
            "\n",
            "1 covid historic spike in cases\n",
            "\n",
            " \n",
            "\n",
            " \n",
            "\n",
            "their first doctor is a psychopathic and sundry… \n",
            " deputy chief of staff to michael theocrat is a bad husband and father\n",
            "\n",
            "and now he is a… \n",
            "ariz\n",
            "\n",
            "2 covid\n",
            "\n",
            "morning glory\n",
            "\n",
            "then you should be doing your job\n",
            "\n",
            " \n",
            " my laymans measure of the r measure how many deaths daily in my laymans r is the highest i ever heard of… \n",
            "arizona is still very much\n",
            "\n",
            "3 covid sarscov nviet v russia what for cash… \n",
            " ‘looked after’ is ‘playing for time’ here’ telling the stories of grateful employees and… \n",
            "before the the song was that\n",
            "\n",
            "4 covid  … \n",
            "finally the is back \n",
            "\n",
            "\n",
            "\n",
            " \n",
            " new cases reported in today also  deaths reported  reported in  in dis… \n",
            "mmola there it is… \n",
            " is global so this means there are a total of\n",
            "\n",
            "5 covid \n",
            "give month to every american  sign the petition via \n",
            "webinar of the week  thank you for these learning experiences \n",
            "latest updates in the fight against ~\n",
            "onetime payment milestone reached  on dyk moon \n",
            "\n",
            "\n",
            "6 covid news reporting spike in  cases in two nd convalescing cases \n",
            "the displacement of so many people in risks accelerating the spr… \n",
            " will get well soon enough  \n",
            "can we all take note \n",
            " \n",
            "this is an\n",
            "\n",
            "7 covid is not as effective at slowing the spread of covid as is a more targeted approach that targets a broad range of potential health impacts… \n",
            " vaccine updates \n",
            "so i havent been to the in years it was sooo painful not to see\n",
            "\n",
            "8 covid and  moscow\n",
            "\n",
            "• i’m sure you’d describe as a child of ‘but shout if you think differently’\n",
            "despite the government’s claims that the  swab test is normal heart treatment it\n",
            "\n",
            "9 covid production in th… \n",
            " latest data on through aug  shows that isgestion of keralas county benefits in july… \n",
            "highest singleday increase of  covid cases  deaths reported in india in august  via \n",
            "\n"
          ]
        }
      ]
    },
    {
      "cell_type": "code",
      "source": [
        "gpt2_generated_tweet = gpt2.generate(sess,\n",
        "              length=50,\n",
        "              temperature=0.7,\n",
        "              nsamples=10,\n",
        "              batch_size=1,\n",
        "              truncate = '<|endoftext|>',\n",
        "              return_as_list=True,\n",
        "              )\n",
        "\n",
        "for i, post in enumerate(gpt2_generated_tweet):\n",
        "  print(i, post)\n",
        "  print()"
      ],
      "metadata": {
        "colab": {
          "base_uri": "https://localhost:8080/"
        },
        "id": "0lxhu8n5NCBg",
        "outputId": "8725eb60-7f8b-4e59-ae5b-ee76b2d78d57"
      },
      "execution_count": null,
      "outputs": [
        {
          "output_type": "stream",
          "name": "stderr",
          "text": [
            "/usr/local/lib/python3.9/dist-packages/ipykernel/ipkernel.py:283: DeprecationWarning: `should_run_async` will not call `transform_cell` automatically in the future. Please pass the result to `transformed_cell` argument and any exception that happen during thetransform in `preprocessing_exc_tuple` in IPython 7.17 and above.\n",
            "  and should_run_async(code)\n"
          ]
        },
        {
          "output_type": "stream",
          "name": "stdout",
          "text": [
            "0 the total number of samples tested up to th august is  including  samples tested yester… \n",
            "a m tested positive  samples tested dead last  samples in tow\n",
            "\n",
            "me… \n",
            " we know the pain of not being able to\n",
            "\n",
            "1 oh i’m a \n",
            "always remember it’s a virus and don’t start a virus business by saying it has no deaths  always do your due diligence and see if there are any that may have infected  always inform\n",
            "\n",
            "2 … \n",
            "i am now beginning to think that forbes is a tabloid magazine for financial matters it doesnt matter what is real… \n",
            "t\n",
            "\n",
            "  deaths yesterday \n",
            "\n",
            " too many positive cases\n",
            "\n",
            " too many test reports pending at testing centres\n",
            "\n",
            " s\n",
            "\n",
            "3 “as leaders we often forget our own problems face… \n",
            " leaders need to reflectively engage their respective audiences while remembering the impacted groups… \n",
            "as  really is messy it must be said that not only is the economy slowing but ho…\n",
            "\n",
            "4 cohorted with lawyers to solicit donations of ₹… \n",
            "sarscov and the outside world will not survive on her monologue… \n",
            "we are extremely proud to present to you ⁦ of tv news channels including o\n",
            "\n",
            "5 … \n",
            "in the age of and increased the need for way more accurate age and gender information is increasing… \n",
            "the metropolitan government confirmed  new cases of on tuesday the thirtyfourth straight day t… \n",
            " the is bankrupting itself before\n",
            "\n",
            "6 in the fight against  \n",
            "premier has announced four new coronavirus cases of destitute young people in fight… \n",
            "these are the  cases that really matter the most to parents are… \n",
            "so lets packem all into\n",
            "\n",
            "7 hk czar vics death “national security risk” to our national treasure is mind boggling\n",
            " thanks to and i just can’t even scratch my tongue a minute… \n",
            "plexi in the us is like the\n",
            "\n",
            "8 “we need to do better at defining t… \n",
            "\n",
            "as a result of most recently installed in schools my pupils are not ready for some international school… \n",
            "breakdown of outbreaks in vic courtesy of \n",
            "\n",
            "schools are safe\n",
            "\n",
            "9  \n",
            "\n",
            "the supreme body behind the unethical decis… \n",
            "content farms develop and spread fake news about covid for profit   \n",
            "last updated  gmt\n",
            " coronavirus covid\n",
            " cases \n",
            " deaths \n",
            "\n",
            " \n",
            "\n",
            "\n"
          ]
        }
      ]
    },
    {
      "cell_type": "code",
      "source": [
        "gpt2_generated_tweet = gpt2.generate(sess,\n",
        "              length=50,\n",
        "              temperature=0.7,\n",
        "              nsamples=10,\n",
        "              batch_size=1,\n",
        "              truncate = '<|endoftext|>',\n",
        "              return_as_list=True,\n",
        "              prefix='covid',\n",
        "              include_prefix=True\n",
        "              )\n",
        "\n",
        "for i, post in enumerate(gpt2_generated_tweet):\n",
        "  print(i, post)\n",
        "  print()"
      ],
      "metadata": {
        "colab": {
          "base_uri": "https://localhost:8080/"
        },
        "id": "1nCTtA4cyooY",
        "outputId": "b7d761a9-1825-44bb-c716-3ca03787a068"
      },
      "execution_count": null,
      "outputs": [
        {
          "output_type": "stream",
          "name": "stderr",
          "text": [
            "/usr/local/lib/python3.9/dist-packages/ipykernel/ipkernel.py:283: DeprecationWarning: `should_run_async` will not call `transform_cell` automatically in the future. Please pass the result to `transformed_cell` argument and any exception that happen during thetransform in `preprocessing_exc_tuple` in IPython 7.17 and above.\n",
            "  and should_run_async(code)\n"
          ]
        },
        {
          "output_type": "stream",
          "name": "stdout",
          "text": [
            "0 covid in the us… \n",
            "as of thursday morning august th had more than  cases of the health ministry sai… \n",
            "highest singleday increase of  covid cases  deaths reported in india in the last  hours\n",
            " …\n",
            "\n",
            "1 covid virus \n",
            "if you don’t believe me try again later meagan county’s covid effective th… \n",
            "so the parents of the little boy in the video are being punished like everyone else\n",
            "for spreading lies the chinese\n",
            "\n",
            "2 covid has no symptoms and you are almost sure cured  \n",
            "\n",
            "just imagine being stuck with a government that doesn’t admit or apologize for the \n",
            " \n",
            " industry body the food web lab tracks web traffic in substantia… \n",
            "\n",
            "\n",
            "3 covid and  pa… \n",
            "september  many wildoccult behaviors including drowning and car… \n",
            " cases of and laboratory tests for potentially going into toxic waste water are locked down and taking… \n",
            " is engulfing all of america under\n",
            "\n",
            "4 covid wasn’t well received around the world and he tried to o… \n",
            " has a fascinating side story that will hopefully lead them to heal better and find a loving home in the… \n",
            " how are you \n",
            " \n",
            "we find this\n",
            "\n",
            "5 covid is the only effective treatment for most cases says epidemiologist \n",
            "governance and efforts are critical to stopping the spread of highly contagious… \n",
            " hopefully theyll all like the fact that theyre basically reopening a vats full of germs that\n",
            "\n",
            "6 covid and pfSense… \n",
            " i havent been able to see my grandma in  months because of she lives in a care… \n",
            " huge jump in number of cases in andhra pradeshthere is underreporting of cases and deaths \n",
            "\n",
            "\n",
            "7 covid this week at the coronavirus pandemic control conference in rizal the first outbreak of covid recorded in the world since coronavirus… \n",
            " \n",
            "\n",
            "recorded the ugliest weekend for years with an  increase of  cases\n",
            "\n",
            "8 covid… \n",
            " has no borders \n",
            "the us is only looking for is… \n",
            "there is a staggering need for clinical research in response to the both as a whole and as a… \n",
            "in this episode alistair califfari of\n",
            "\n",
            "9 covid’s success is in its effects on the pandemic response and disruption of that response are… \n",
            "we are sick fucked up \n",
            "we are chaos we cant be cured \n",
            "\n",
            "sc… \n",
            " please stay places we can do our\n",
            "\n"
          ]
        }
      ]
    }
  ]
}